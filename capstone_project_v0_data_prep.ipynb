{
 "cells": [
  {
   "cell_type": "code",
   "execution_count": 1,
   "metadata": {
    "_cell_guid": "e1d5f7cc-e69b-4b75-9e49-c42ab70e1f81",
    "_execution_state": "idle",
    "_uuid": "39008a2aa2a73398cb80d8b683bb626b902893e3"
   },
   "outputs": [
    {
     "name": "stdout",
     "output_type": "stream",
     "text": [
      "aisles.csv\n",
      "departments.csv\n",
      "order_products__prior.csv\n",
      "order_products__train.csv\n",
      "orders.csv\n",
      "products.csv\n",
      "sample_submission.csv\n",
      "\n"
     ]
    }
   ],
   "source": [
    "import numpy as np   ## linear algebra\n",
    "import pandas as pd  ## data processing, CSV file I/O (e.g. pd.read_csv)\n",
    "from sklearn.model_selection import train_test_split  ## split train and test\n",
    "from IPython.display import display ## Allows the use of display() for DataFrames\n",
    "\n",
    "import matplotlib.pyplot as plt  ## data visualization\n",
    "\n",
    "import gc   ## clean up \n",
    "import time ## time it\n",
    "\n",
    "from subprocess import check_output\n",
    "print(check_output([\"ls\", \"./data\"]).decode(\"utf8\"))\n",
    "# Any results you write to the current directory are saved as output."
   ]
  },
  {
   "cell_type": "code",
   "execution_count": 3,
   "metadata": {
    "collapsed": true
   },
   "outputs": [],
   "source": [
    "def load_data(path_data):\n",
    "    '''\n",
    "    --------------------------------order_product--------------------------------\n",
    "    * Unique in order_id + product_id\n",
    "    '''\n",
    "    priors = pd.read_csv(path_data + 'order_products__prior.csv', \n",
    "                     dtype={\n",
    "                            'order_id': np.int32,\n",
    "                            'product_id': np.uint16,\n",
    "                            'add_to_cart_order': np.int16,\n",
    "                            'reordered': np.int8})\n",
    "    train = pd.read_csv(path_data + 'order_products__train.csv', \n",
    "                    dtype={\n",
    "                            'order_id': np.int32,\n",
    "                            'product_id': np.uint16,\n",
    "                            'add_to_cart_order': np.int16,\n",
    "                            'reordered': np.int8})\n",
    "    '''\n",
    "    --------------------------------order--------------------------------\n",
    "    * This file tells us which set (prior, train, test) an order belongs\n",
    "    * Unique in order_id\n",
    "    * order_id in train, prior, test has no intersection\n",
    "    * this is the #order_number order of this user\n",
    "    '''\n",
    "    orders = pd.read_csv(path_data + 'orders.csv', \n",
    "                         dtype={\n",
    "                                'order_id': np.int32,\n",
    "                                'user_id': np.int64,\n",
    "                                'eval_set': 'category',\n",
    "                                'order_number': np.int16,\n",
    "                                'order_dow': np.int8,\n",
    "                                'order_hour_of_day': np.int8,\n",
    "                                'days_since_prior_order': np.float32})\n",
    "    '''\n",
    "    --------------------------------product--------------------------------\n",
    "    * Unique in product_id\n",
    "    '''\n",
    "    products = pd.read_csv(path_data + 'products.csv')\n",
    "    aisles = pd.read_csv(path_data + \"aisles.csv\")\n",
    "    departments = pd.read_csv(path_data + \"departments.csv\")\n",
    "    sample_submission = pd.read_csv(path_data + \"sample_submission.csv\")\n",
    "    \n",
    "    return priors, train, orders, products, aisles, departments, sample_submission\n"
   ]
  },
  {
   "cell_type": "code",
   "execution_count": 4,
   "metadata": {
    "collapsed": true
   },
   "outputs": [],
   "source": [
    "path_data = './data/'\n",
    "df_priors, df_train, df_orders, df_products, df_aisles, df_departments, df_sample_submission = load_data(path_data)    "
   ]
  },
  {
   "cell_type": "code",
   "execution_count": 58,
   "metadata": {
    "collapsed": true
   },
   "outputs": [],
   "source": [
    "## Suggested by @Robert Goss https://www.kaggle.com/nickycan/lb-0-3805009-python-edition\n",
    "import sys\n",
    "\n",
    "def check_data(data):\n",
    "    starting_size = sys.getsizeof(data)\n",
    "    i = 0\n",
    "    for c, dtype in zip(data.columns, data.dtypes):\n",
    "        if 'int' in str(dtype):\n",
    "            if min(data[c]) >=0:\n",
    "                max_int =  max(data[c])\n",
    "                if max_int <= 255:\n",
    "                    data[c] = data[c].astype(np.uint8)\n",
    "                elif max_int <= 65535:\n",
    "                    data[c] = data[c].astype(np.uint16)\n",
    "                elif max_int <= 4294967295:\n",
    "                    data[c] = data[c].astype(np.uint32)\n",
    "                i += 1\n",
    "    print(\"Number of colums adjusted: {}\\n\".format(i))\n",
    "    ## Changing known reorderd col to smaller int size\n",
    "    data['reordered'] = np.nan_to_num(data['reordered']).astype(np.uint8)\n",
    "    data.reordered.loc[data['reordered'] == 0] = np.nan  ## only replace such element in the column\n",
    "    print(\"Reduced size {:.2%}\".format(float(sys.getsizeof(data))/float(starting_size)))\n",
    "    return data"
   ]
  },
  {
   "cell_type": "code",
   "execution_count": 57,
   "metadata": {},
   "outputs": [
    {
     "name": "stdout",
     "output_type": "stream",
     "text": [
      "Number of colums adjusted: 3\n",
      "\n"
     ]
    },
    {
     "name": "stderr",
     "output_type": "stream",
     "text": [
      "/Users/udothemath1984/anaconda/lib/python3.6/site-packages/pandas/core/indexing.py:179: SettingWithCopyWarning: \n",
      "A value is trying to be set on a copy of a slice from a DataFrame\n",
      "\n",
      "See the caveats in the documentation: http://pandas.pydata.org/pandas-docs/stable/indexing.html#indexing-view-versus-copy\n",
      "  self._setitem_with_indexer(indexer, value)\n"
     ]
    },
    {
     "name": "stdout",
     "output_type": "stream",
     "text": [
      "Reduced size 100.00%\n",
      "Number of colums adjusted: 3\n",
      "\n",
      "Reduced size 100.00%\n"
     ]
    }
   ],
   "source": [
    "my_check_list = [df_priors, df_train]\n",
    "for this in my_check_list:\n",
    "    check_data(this)\n",
    "    "
   ]
  },
  {
   "cell_type": "markdown",
   "metadata": {},
   "source": [
    "### The data is ready. ###"
   ]
  },
  {
   "cell_type": "code",
   "execution_count": null,
   "metadata": {
    "collapsed": true
   },
   "outputs": [],
   "source": []
  }
 ],
 "metadata": {
  "kernelspec": {
   "display_name": "Python 3",
   "language": "python",
   "name": "python3"
  },
  "language_info": {
   "codemirror_mode": {
    "name": "ipython",
    "version": 3
   },
   "file_extension": ".py",
   "mimetype": "text/x-python",
   "name": "python",
   "nbconvert_exporter": "python",
   "pygments_lexer": "ipython3",
   "version": "3.6.0"
  }
 },
 "nbformat": 4,
 "nbformat_minor": 1
}
