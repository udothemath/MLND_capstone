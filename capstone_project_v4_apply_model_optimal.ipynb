{
 "cells": [
  {
   "cell_type": "code",
   "execution_count": 6,
   "metadata": {},
   "outputs": [],
   "source": [
    "import xgboost as xgb"
   ]
  },
  {
   "cell_type": "code",
   "execution_count": 35,
   "metadata": {},
   "outputs": [
    {
     "name": "stdout",
     "output_type": "stream",
     "text": [
      "aisles.csv\n",
      "departments.csv\n",
      "order_products__prior.csv\n",
      "order_products__train.csv\n",
      "orders.csv\n",
      "products.csv\n",
      "sample_submission.csv\n",
      "\n"
     ]
    }
   ],
   "source": [
    "# inspired by https://www.kaggle.com/nickycan/lb-0-3805009-python-edition\n",
    "import numpy as np   ## linear algebra\n",
    "import pandas as pd  ## data processing, CSV file I/O (e.g. pd.read_csv)\n",
    "from sklearn.model_selection import train_test_split  ## split train and test\n",
    "from IPython.display import display ## Allows the use of display() for DataFrames\n",
    "\n",
    "import matplotlib.pyplot as plt  ## data visualization\n",
    "\n",
    "import gc   ## clean up \n",
    "import time ## time it\n",
    "\n",
    "from subprocess import check_output\n",
    "print(check_output([\"ls\", \"./data\"]).decode(\"utf8\"))\n",
    "# Any results you write to the current directory are saved as output."
   ]
  },
  {
   "cell_type": "code",
   "execution_count": 64,
   "metadata": {},
   "outputs": [
    {
     "name": "stdout",
     "output_type": "stream",
     "text": [
      "numpy version: 1.13.1\n",
      "pandas version: 0.20.3\n",
      "sklearn version: 0.19.0\n",
      "matplotlib version: 2.0.2\n",
      "seaborn version: 0.7.1\n"
     ]
    }
   ],
   "source": [
    "import sklearn\n",
    "import matplotlib\n",
    "import seaborn\n",
    "my_list = [np, pd, sklearn, matplotlib, seaborn ]\n",
    "\n",
    "for this in my_list:\n",
    "    print(\"{} version: {}\".format(this.__name__, this.__version__))\n",
    "\n",
    "#print(.__version__)"
   ]
  },
  {
   "cell_type": "markdown",
   "metadata": {},
   "source": [
    "## Load the dataset from feature engineering ##"
   ]
  },
  {
   "cell_type": "code",
   "execution_count": 3,
   "metadata": {},
   "outputs": [],
   "source": [
    "## access to hdf5 file\n",
    "df_data = pd.read_hdf('saved_df_data_whole.h5', 'df_data')"
   ]
  },
  {
   "cell_type": "code",
   "execution_count": 5,
   "metadata": {},
   "outputs": [
    {
     "data": {
      "text/html": [
       "<div>\n",
       "<style>\n",
       "    .dataframe thead tr:only-child th {\n",
       "        text-align: right;\n",
       "    }\n",
       "\n",
       "    .dataframe thead th {\n",
       "        text-align: left;\n",
       "    }\n",
       "\n",
       "    .dataframe tbody tr th {\n",
       "        vertical-align: top;\n",
       "    }\n",
       "</style>\n",
       "<table border=\"1\" class=\"dataframe\">\n",
       "  <thead>\n",
       "    <tr style=\"text-align: right;\">\n",
       "      <th></th>\n",
       "      <th>user_id</th>\n",
       "      <th>product_id</th>\n",
       "      <th>_up_order_count</th>\n",
       "      <th>_up_first_order_number</th>\n",
       "      <th>_up_last_order_number</th>\n",
       "      <th>_up_average_cart_position</th>\n",
       "      <th>_prod_tot_cnts</th>\n",
       "      <th>_prod_reorder_tot_cnts</th>\n",
       "      <th>_prod_buy_first_time_total_cnt</th>\n",
       "      <th>_prod_buy_second_time_total_cnt</th>\n",
       "      <th>...</th>\n",
       "      <th>_user_total_products</th>\n",
       "      <th>_user_distinct_products</th>\n",
       "      <th>_user_average_basket</th>\n",
       "      <th>order_id</th>\n",
       "      <th>eval_set</th>\n",
       "      <th>time_since_last_order</th>\n",
       "      <th>_up_order_rate</th>\n",
       "      <th>_up_order_since_last_order</th>\n",
       "      <th>_up_order_rate_since_first_order</th>\n",
       "      <th>reordered</th>\n",
       "    </tr>\n",
       "  </thead>\n",
       "  <tbody>\n",
       "    <tr>\n",
       "      <th>0</th>\n",
       "      <td>1</td>\n",
       "      <td>196</td>\n",
       "      <td>10</td>\n",
       "      <td>1</td>\n",
       "      <td>10</td>\n",
       "      <td>1.400000</td>\n",
       "      <td>35791</td>\n",
       "      <td>27791.0</td>\n",
       "      <td>8000</td>\n",
       "      <td>4660</td>\n",
       "      <td>...</td>\n",
       "      <td>59</td>\n",
       "      <td>18</td>\n",
       "      <td>5.9</td>\n",
       "      <td>1187899</td>\n",
       "      <td>train</td>\n",
       "      <td>14.0</td>\n",
       "      <td>1.0</td>\n",
       "      <td>0</td>\n",
       "      <td>1.000000</td>\n",
       "      <td>1.0</td>\n",
       "    </tr>\n",
       "    <tr>\n",
       "      <th>1</th>\n",
       "      <td>1</td>\n",
       "      <td>10258</td>\n",
       "      <td>9</td>\n",
       "      <td>2</td>\n",
       "      <td>10</td>\n",
       "      <td>3.333333</td>\n",
       "      <td>1946</td>\n",
       "      <td>1389.0</td>\n",
       "      <td>557</td>\n",
       "      <td>308</td>\n",
       "      <td>...</td>\n",
       "      <td>59</td>\n",
       "      <td>18</td>\n",
       "      <td>5.9</td>\n",
       "      <td>1187899</td>\n",
       "      <td>train</td>\n",
       "      <td>14.0</td>\n",
       "      <td>0.9</td>\n",
       "      <td>0</td>\n",
       "      <td>1.000000</td>\n",
       "      <td>1.0</td>\n",
       "    </tr>\n",
       "    <tr>\n",
       "      <th>2</th>\n",
       "      <td>1</td>\n",
       "      <td>10326</td>\n",
       "      <td>1</td>\n",
       "      <td>5</td>\n",
       "      <td>5</td>\n",
       "      <td>5.000000</td>\n",
       "      <td>5526</td>\n",
       "      <td>3603.0</td>\n",
       "      <td>1923</td>\n",
       "      <td>1003</td>\n",
       "      <td>...</td>\n",
       "      <td>59</td>\n",
       "      <td>18</td>\n",
       "      <td>5.9</td>\n",
       "      <td>1187899</td>\n",
       "      <td>train</td>\n",
       "      <td>14.0</td>\n",
       "      <td>0.1</td>\n",
       "      <td>5</td>\n",
       "      <td>0.166667</td>\n",
       "      <td>NaN</td>\n",
       "    </tr>\n",
       "    <tr>\n",
       "      <th>3</th>\n",
       "      <td>1</td>\n",
       "      <td>12427</td>\n",
       "      <td>10</td>\n",
       "      <td>1</td>\n",
       "      <td>10</td>\n",
       "      <td>3.300000</td>\n",
       "      <td>6476</td>\n",
       "      <td>4797.0</td>\n",
       "      <td>1679</td>\n",
       "      <td>889</td>\n",
       "      <td>...</td>\n",
       "      <td>59</td>\n",
       "      <td>18</td>\n",
       "      <td>5.9</td>\n",
       "      <td>1187899</td>\n",
       "      <td>train</td>\n",
       "      <td>14.0</td>\n",
       "      <td>1.0</td>\n",
       "      <td>0</td>\n",
       "      <td>1.000000</td>\n",
       "      <td>NaN</td>\n",
       "    </tr>\n",
       "    <tr>\n",
       "      <th>4</th>\n",
       "      <td>1</td>\n",
       "      <td>13032</td>\n",
       "      <td>3</td>\n",
       "      <td>2</td>\n",
       "      <td>10</td>\n",
       "      <td>6.333333</td>\n",
       "      <td>3751</td>\n",
       "      <td>2465.0</td>\n",
       "      <td>1286</td>\n",
       "      <td>617</td>\n",
       "      <td>...</td>\n",
       "      <td>59</td>\n",
       "      <td>18</td>\n",
       "      <td>5.9</td>\n",
       "      <td>1187899</td>\n",
       "      <td>train</td>\n",
       "      <td>14.0</td>\n",
       "      <td>0.3</td>\n",
       "      <td>0</td>\n",
       "      <td>0.333333</td>\n",
       "      <td>1.0</td>\n",
       "    </tr>\n",
       "  </tbody>\n",
       "</table>\n",
       "<p>5 rows × 26 columns</p>\n",
       "</div>"
      ],
      "text/plain": [
       "   user_id  product_id  _up_order_count  _up_first_order_number  \\\n",
       "0        1         196               10                       1   \n",
       "1        1       10258                9                       2   \n",
       "2        1       10326                1                       5   \n",
       "3        1       12427               10                       1   \n",
       "4        1       13032                3                       2   \n",
       "\n",
       "   _up_last_order_number  _up_average_cart_position  _prod_tot_cnts  \\\n",
       "0                     10                   1.400000           35791   \n",
       "1                     10                   3.333333            1946   \n",
       "2                      5                   5.000000            5526   \n",
       "3                     10                   3.300000            6476   \n",
       "4                     10                   6.333333            3751   \n",
       "\n",
       "   _prod_reorder_tot_cnts  _prod_buy_first_time_total_cnt  \\\n",
       "0                 27791.0                            8000   \n",
       "1                  1389.0                             557   \n",
       "2                  3603.0                            1923   \n",
       "3                  4797.0                            1679   \n",
       "4                  2465.0                            1286   \n",
       "\n",
       "   _prod_buy_second_time_total_cnt    ...      _user_total_products  \\\n",
       "0                             4660    ...                        59   \n",
       "1                              308    ...                        59   \n",
       "2                             1003    ...                        59   \n",
       "3                              889    ...                        59   \n",
       "4                              617    ...                        59   \n",
       "\n",
       "   _user_distinct_products  _user_average_basket  order_id  eval_set  \\\n",
       "0                       18                   5.9   1187899     train   \n",
       "1                       18                   5.9   1187899     train   \n",
       "2                       18                   5.9   1187899     train   \n",
       "3                       18                   5.9   1187899     train   \n",
       "4                       18                   5.9   1187899     train   \n",
       "\n",
       "   time_since_last_order  _up_order_rate  _up_order_since_last_order  \\\n",
       "0                   14.0             1.0                           0   \n",
       "1                   14.0             0.9                           0   \n",
       "2                   14.0             0.1                           5   \n",
       "3                   14.0             1.0                           0   \n",
       "4                   14.0             0.3                           0   \n",
       "\n",
       "   _up_order_rate_since_first_order  reordered  \n",
       "0                          1.000000        1.0  \n",
       "1                          1.000000        1.0  \n",
       "2                          0.166667        NaN  \n",
       "3                          1.000000        NaN  \n",
       "4                          0.333333        1.0  \n",
       "\n",
       "[5 rows x 26 columns]"
      ]
     },
     "metadata": {},
     "output_type": "display_data"
    },
    {
     "data": {
      "text/plain": [
       "(13307953, 26)"
      ]
     },
     "metadata": {},
     "output_type": "display_data"
    }
   ],
   "source": [
    "display(df_data.head(5))\n",
    "display(df_data.shape)"
   ]
  },
  {
   "cell_type": "code",
   "execution_count": null,
   "metadata": {
    "collapsed": true
   },
   "outputs": [],
   "source": [
    "class setup_your_clock:\n",
    "    def __init__(self, process_name, verbose=1):\n",
    "        self.process_name = process_name\n",
    "        self.verbose = verbose\n",
    "    def __enter__(self):\n",
    "        if self.verbose:\n",
    "            print(self.process_name + \" begin ......\")\n",
    "            self.begin_time = time.time()\n",
    "    def __exit__(self, type, value, traceback):\n",
    "        if self.verbose:\n",
    "            end_time = time.time()\n",
    "            print(self.process_name + \" end ......\")\n",
    "            print('time lapsing {0} s \\n'.format(end_time - self.begin_time))"
   ]
  },
  {
   "cell_type": "markdown",
   "metadata": {},
   "source": [
    "### For Competition Submission ###"
   ]
  },
  {
   "cell_type": "code",
   "execution_count": null,
   "metadata": {
    "collapsed": true
   },
   "outputs": [],
   "source": [
    "def ka_add_groupby_features_n_vs_1(df, group_columns_list, target_columns_list, \n",
    "                                   methods_list, keep_only_stats=True, verbose=1):\n",
    "    '''Create statistical columns, group by [N columns] and compute stats on [1 column]\n",
    "\n",
    "       Parameters\n",
    "       ----------\n",
    "       df: pandas dataframe\n",
    "          Features matrix\n",
    "       group_columns_list: list_like\n",
    "          List of columns you want to group with, could be multiple columns\n",
    "       target_columns_list: list_like\n",
    "          column you want to compute stats, need to be a list with only one element\n",
    "       methods_list: list_like\n",
    "          methods that you want to use, all methods that supported by groupby in Pandas\n",
    "\n",
    "       Return\n",
    "       ------\n",
    "       new pandas dataframe with original columns and new added columns\n",
    "\n",
    "       Example\n",
    "       -------\n",
    "       ka_add_stats_features_n_vs_1(train, group_columns_list=['x0'], target_columns_list=['x10'])\n",
    "    '''\n",
    "    with setup_your_clock(\"add stats features\", verbose):\n",
    "        dicts = {\"group_columns_list\": group_columns_list , \n",
    "                 \"target_columns_list\": target_columns_list, \n",
    "                 \"methods_list\": methods_list}\n",
    "\n",
    "        for k, v in dicts.items():\n",
    "            try:\n",
    "                if type(v) == list:\n",
    "                    pass\n",
    "                else:\n",
    "                    raise TypeError(k + \" should be a list\")\n",
    "            except TypeError as e:\n",
    "                print(e)\n",
    "                raise\n",
    "\n",
    "        grouped_name = ''.join(group_columns_list)\n",
    "        target_name = ''.join(target_columns_list)\n",
    "        combine_name = [[grouped_name] + [method_name] + [target_name] for method_name in methods_list]\n",
    "        ##print(combine_name)\n",
    "        df_new = df.copy()\n",
    "        grouped = df_new.groupby(group_columns_list)\n",
    "\n",
    "        the_stats = grouped[target_name].agg(methods_list).reset_index()\n",
    "        the_stats.columns = [grouped_name] + \\\n",
    "                            ['_%s_%s_by_%s' % (grouped_name, method_name, target_name) \\\n",
    "                             for (grouped_name, method_name, target_name) in combine_name]\n",
    "        if keep_only_stats:\n",
    "            return the_stats\n",
    "        else:\n",
    "            df_new = pd.merge(left=df_new, right=the_stats, on=group_columns_list, how='left')\n",
    "        return df_new"
   ]
  },
  {
   "cell_type": "markdown",
   "metadata": {},
   "source": [
    "## Train / Test ##"
   ]
  },
  {
   "cell_type": "code",
   "execution_count": null,
   "metadata": {},
   "outputs": [],
   "source": [
    "print(df_data.columns)\n",
    "print(df_data.shape)"
   ]
  },
  {
   "cell_type": "code",
   "execution_count": 10,
   "metadata": {},
   "outputs": [],
   "source": [
    "df_train = df_data[df_data['eval_set'] == \"train\"].copy()\n",
    "df_train.drop(['eval_set', 'user_id', 'product_id', 'order_id'], axis=1, inplace=True)\n",
    "df_train.loc[:, 'reordered'] = df_train.reordered.fillna(0)"
   ]
  },
  {
   "cell_type": "code",
   "execution_count": null,
   "metadata": {},
   "outputs": [],
   "source": [
    "display(df_train.head(3))"
   ]
  },
  {
   "cell_type": "markdown",
   "metadata": {},
   "source": [
    "### Normalization ###"
   ]
  },
  {
   "cell_type": "code",
   "execution_count": 14,
   "metadata": {},
   "outputs": [],
   "source": [
    "from sklearn.preprocessing import MinMaxScaler\n",
    "scaler = MinMaxScaler()\n",
    "df_train = pd.DataFrame(scaler.fit_transform(df_train), columns = df_train.columns.values)\n"
   ]
  },
  {
   "cell_type": "code",
   "execution_count": null,
   "metadata": {},
   "outputs": [],
   "source": [
    "display(df_train.head(3))"
   ]
  },
  {
   "cell_type": "code",
   "execution_count": 16,
   "metadata": {},
   "outputs": [],
   "source": [
    "## X_test = df_data.loc[df_data.eval_set == \"test\",:]\n",
    "\n",
    "X_df_train, X_val, y_df_train, y_val = train_test_split(df_train.drop('reordered', axis=1), df_train.reordered,\n",
    "                                                    test_size=0.8, random_state=42)"
   ]
  },
  {
   "cell_type": "code",
   "execution_count": null,
   "metadata": {
    "collapsed": true
   },
   "outputs": [],
   "source": [
    "d_df_train = xgb.DMatrix(X_df_train, y_df_train)\n",
    "xgb_params = {\n",
    "    \"objective\"         : \"reg:logistic\"\n",
    "    ,\"eval_metric\"      : \"logloss\"\n",
    "    ,\"eta\"              : 0.1\n",
    "    ,\"max_depth\"        : 6\n",
    "    ,\"min_child_weight\" :10\n",
    "    ,\"gamma\"            :0.70\n",
    "    ,\"subsample\"        :0.76\n",
    "    ,\"colsample_bytree\" :0.95\n",
    "    ,\"alpha\"            :2e-05\n",
    "    ,\"lambda\"           :10\n",
    "}"
   ]
  },
  {
   "cell_type": "code",
   "execution_count": null,
   "metadata": {},
   "outputs": [],
   "source": [
    "watchlist= [(d_df_train, \"train\")]\n",
    "bst = xgb.train(params=xgb_params, dtrain=d_df_train, num_boost_round=120, \n",
    "                evals=watchlist, verbose_eval=10)"
   ]
  },
  {
   "cell_type": "code",
   "execution_count": null,
   "metadata": {},
   "outputs": [],
   "source": [
    "import matplotlib.pyplot as plt\n",
    "plt.clf()\n",
    "\n",
    "plt.rcParams[\"figure.figsize\"] = (8,6)\n",
    "xgb.plot_importance(bst)\n",
    "plt.tight_layout()\n",
    "plt.savefig('./figures/fig_dominant_features_xgboost.png')\n",
    "plt.show()"
   ]
  },
  {
   "cell_type": "markdown",
   "metadata": {},
   "source": [
    "### Save the Model using Pickle ###"
   ]
  },
  {
   "cell_type": "code",
   "execution_count": 1,
   "metadata": {},
   "outputs": [
    {
     "name": "stderr",
     "output_type": "stream",
     "text": [
      "/Users/udothemath1984/anaconda/lib/python3.6/site-packages/sklearn/cross_validation.py:41: DeprecationWarning: This module was deprecated in version 0.18 in favor of the model_selection module into which all the refactored classes and functions are moved. Also note that the interface of the new CV iterators are different from that of this module. This module will be removed in 0.20.\n",
      "  \"This module will be removed in 0.20.\", DeprecationWarning)\n"
     ]
    }
   ],
   "source": [
    "import pickle\n",
    "saving_model = False\n",
    "\n",
    "filename = 'm99_optimal_model.p'\n",
    "\n",
    "if saving_model: \n",
    "    ## save the model to disk\n",
    "    pickle.dump(bst, open(filename, 'wb'))\n",
    "else:\n",
    "    ## load the model from disk\n",
    "    bst = pickle.load(open(filename, 'rb'))"
   ]
  },
  {
   "cell_type": "code",
   "execution_count": 70,
   "metadata": {},
   "outputs": [],
   "source": [
    "# display(X_val.head(3))\n",
    "# display(y_val.head(3))"
   ]
  },
  {
   "cell_type": "markdown",
   "metadata": {},
   "source": [
    "### Prediction ###"
   ]
  },
  {
   "cell_type": "code",
   "execution_count": 18,
   "metadata": {},
   "outputs": [],
   "source": [
    "## get the right format for xgboost\n",
    "xgboost_dtest=xgb.DMatrix(X_val)\n",
    "## prediction\n",
    "ypred2=bst.predict(xgboost_dtest)"
   ]
  },
  {
   "cell_type": "code",
   "execution_count": 86,
   "metadata": {},
   "outputs": [],
   "source": [
    "# show_entries = 10\n",
    "# print(ypred2[:show_entries])\n",
    "# print(y_val[:show_entries])"
   ]
  },
  {
   "cell_type": "markdown",
   "metadata": {},
   "source": [
    "### Modify the Skewed Data ###"
   ]
  },
  {
   "cell_type": "code",
   "execution_count": null,
   "metadata": {},
   "outputs": [],
   "source": [
    "from scipy import stats\n",
    "plt.clf()\n",
    "#display(stats.describe(ypred2))\n",
    "plt.hist(ypred2, bins='auto')\n",
    "plt.show()"
   ]
  },
  {
   "cell_type": "code",
   "execution_count": 123,
   "metadata": {},
   "outputs": [
    {
     "name": "stdout",
     "output_type": "stream",
     "text": [
      "2.6082448959350586\n"
     ]
    },
    {
     "data": {
      "text/plain": [
       "<matplotlib.figure.Figure at 0x110c84dd8>"
      ]
     },
     "metadata": {},
     "output_type": "display_data"
    },
    {
     "data": {
      "image/png": "[encoded data removed]",
      "text/plain": [
       "<matplotlib.figure.Figure at 0x110c84390>"
      ]
     },
     "metadata": {},
     "output_type": "display_data"
    }
   ],
   "source": [
    "## http://shahramabyari.com/2015/12/21/data-preparation-for-predictive-modeling-resolving-skewness/\n",
    "from scipy.stats import skew\n",
    "from matplotlib.ticker import FuncFormatter\n",
    "import matplotlib.ticker as ticker\n",
    "from matplotlib.gridspec import GridSpec\n",
    "import matplotlib as mpl\n",
    "\n",
    "mpl.rcParams['axes.labelsize'] = 16\n",
    "mpl.rcParams['xtick.labelsize'] = 16\n",
    "mpl.rcParams['ytick.labelsize'] = 16\n",
    "\n",
    "y_unit = 1000000\n",
    "\n",
    "def major_formatter(y, pos):\n",
    "    return \"{:.1f}\".format(y/y_unit)\n",
    "\n",
    "skness = skew(ypred2)\n",
    "print(skness)\n",
    "##We draw the histograms \n",
    "plt.clf()\n",
    "\n",
    "# plot it\n",
    "fig = plt.figure(figsize=(8, 6)) \n",
    "gs = GridSpec(1, 2, width_ratios=[3, 1]) \n",
    "ax1 = plt.subplot(gs[0])\n",
    "#ax1.yaxis.set_major_formatter(FuncFormatter(lambda y, _: '{:.0}'.format(y/y_unit)))\n",
    "ax1.yaxis.set_major_formatter(FuncFormatter(major_formatter))\n",
    "plt.hist(ypred2,facecolor='blue',alpha=0.75) \n",
    "ax1.xaxis.set_major_locator(ticker.MultipleLocator(0.25))\n",
    "plt.xlabel(\"Skewed Prediction Value\") \n",
    "plt.ylabel(\"Counts(10$^6$)\") \n",
    "plt.ylim(0,5*y_unit)\n",
    "\n",
    "#plt.title(\"Transformed AirTime Histogram\") \n",
    "#plt.text(2,100000,\"Skewness: {0:.2f}\".format(skness)) \n",
    "\n",
    "#ax2 = plt.subplot(122)\n",
    "ax2 = plt.subplot(gs[1])\n",
    "\n",
    "plt.boxplot(ypred2)\n",
    "ax2.yaxis.set_label_position(\"right\")\n",
    "ax2.yaxis.tick_right()\n",
    "plt.ylabel(\"Distribution\") \n",
    "\n",
    "#plt.tight_layout()\n",
    "\n",
    "#plt.title(\"Large Skewness shows Right Skewed Distribution\")\n",
    "plt.savefig('./figures/fig_skewed_raw.png')\n",
    "\n",
    "plt.show()\n"
   ]
  },
  {
   "cell_type": "code",
   "execution_count": 124,
   "metadata": {},
   "outputs": [
    {
     "name": "stderr",
     "output_type": "stream",
     "text": [
      "/Users/udothemath1984/anaconda/lib/python3.6/site-packages/sklearn/preprocessing/data.py:164: UserWarning: Numerical issues were encountered when centering the data and might not be solved. Dataset may contain too large values. You may need to prescale your features.\n",
      "  warnings.warn(\"Numerical issues were encountered \"\n",
      "/Users/udothemath1984/anaconda/lib/python3.6/site-packages/sklearn/preprocessing/data.py:181: UserWarning: Numerical issues were encountered when scaling the data and might not be solved. The standard deviation of the data is probably very close to 0. \n",
      "  warnings.warn(\"Numerical issues were encountered \"\n"
     ]
    }
   ],
   "source": [
    "# import pandas as pd\n",
    "# import matplotlib.pylab as plt\n",
    "from sklearn import preprocessing\n",
    "# from scipy.stats import skew\n",
    "# import numpy as np\n",
    "from scipy.stats import boxcox\n",
    "\n",
    "# #Note that we shift the values by 1 to get rid of zeros\n",
    "ypred2_BoxCox = preprocessing.scale(boxcox(ypred2+1)[0])\n",
    "ypred2_Orig = preprocessing.scale(ypred2)\n",
    "\n",
    "#Next We calculate Skewness using skew in spicy.stats\n",
    "skness_BoxCox = skew(ypred2_BoxCox)\n",
    "skness_Orig = skew(ypred2_Orig)"
   ]
  },
  {
   "cell_type": "code",
   "execution_count": 134,
   "metadata": {},
   "outputs": [
    {
     "data": {
      "text/plain": [
       "<matplotlib.figure.Figure at 0x1046da860>"
      ]
     },
     "metadata": {},
     "output_type": "display_data"
    },
    {
     "data": {
      "image/png": "[encoded data removed]",
      "text/plain": [
       "<matplotlib.figure.Figure at 0x1046da400>"
      ]
     },
     "metadata": {},
     "output_type": "display_data"
    }
   ],
   "source": [
    "plt.clf()\n",
    "\n",
    "y_left_unit = 1000000\n",
    "def major_formatter_left(y, pos):\n",
    "    return \"{:.1f}\".format(y/y_left_unit)\n",
    "\n",
    "y_right_unit = 100000\n",
    "def major_formatter_right(y, pos):\n",
    "    return \"{:.1f}\".format(y/y_right_unit)\n",
    "\n",
    "# plot it\n",
    "fig = plt.figure(figsize=(8, 6)) \n",
    "gs = GridSpec(1, 2, width_ratios=[2, 3]) \n",
    "ax1 = plt.subplot(gs[0])\n",
    "#ax1.yaxis.set_major_formatter(FuncFormatter(lambda y, _: '{:.0}'.format(y/y_unit)))\n",
    "ax1.yaxis.set_major_formatter(FuncFormatter(major_formatter_left))\n",
    "plt.hist(ypred2,facecolor='blue',alpha=0.75) \n",
    "ax1.xaxis.set_major_locator(ticker.MultipleLocator(0.25))\n",
    "#plt.xlabel(\"Skewed Prediction Value\") \n",
    "plt.ylabel(\"Counts(10$^6$)\") \n",
    "plt.title(\"Right Skewed\") \n",
    "plt.ylim(0,5*y_unit)\n",
    "\n",
    "#plt.title(\"Transformed AirTime Histogram\") \n",
    "#plt.text(2,100000,\"Skewness: {0:.2f}\".format(skness)) \n",
    "\n",
    "#ax2 = plt.subplot(122)\n",
    "ax2 = plt.subplot(gs[1])\n",
    "\n",
    "plt.hist(ypred2_BoxCox,facecolor='green',alpha=0.75) \n",
    "plt.title(\"Un-Skewed(BoxCox)\") \n",
    "ax2.yaxis.set_major_formatter(FuncFormatter(major_formatter_right))\n",
    "ax2.yaxis.set_label_position(\"right\")\n",
    "ax2.yaxis.tick_right()\n",
    "plt.ylabel(\"Counts(10$^5$)\") \n",
    "\n",
    "plt.tight_layout()\n",
    "\n",
    "#plt.title(\"Large Skewness shows Right Skewed Distribution\")\n",
    "plt.savefig('./figures/fig_skewed_transform.png')\n",
    "\n",
    "plt.show()"
   ]
  },
  {
   "cell_type": "code",
   "execution_count": 55,
   "metadata": {},
   "outputs": [],
   "source": [
    "from sklearn.preprocessing import MinMaxScaler\n",
    "scaler = MinMaxScaler()\n",
    "## normalization\n",
    "ypred2_BoxCox_scaled = (scaler.fit_transform(ypred2_BoxCox.reshape(-1, 1)))"
   ]
  },
  {
   "cell_type": "code",
   "execution_count": 132,
   "metadata": {},
   "outputs": [
    {
     "data": {
      "text/plain": [
       "<matplotlib.figure.Figure at 0x1103444a8>"
      ]
     },
     "metadata": {},
     "output_type": "display_data"
    },
    {
     "data": {
      "image/png": "[encoded data removed]",
      "text/plain": [
       "<matplotlib.figure.Figure at 0x110344d68>"
      ]
     },
     "metadata": {},
     "output_type": "display_data"
    }
   ],
   "source": [
    "##We draw the histograms \n",
    "plt.clf()\n",
    "\n",
    "# plot it\n",
    "fig = plt.figure(figsize=(8, 6)) \n",
    "gs = GridSpec(1, 2, width_ratios=[3, 1])\n",
    "\n",
    "ax1 = plt.subplot(gs[0])\n",
    "\n",
    "plt.hist(ypred2_BoxCox_scaled,facecolor='green',alpha=0.75) \n",
    "plt.title(\"Un-Skewed(BoxCox)\") \n",
    "ax1.yaxis.set_major_formatter(FuncFormatter(major_formatter_right))\n",
    "plt.ylabel(\"Counts(10$^5$)\") \n",
    "\n",
    "ax2 = plt.subplot(gs[1])\n",
    "\n",
    "plt.boxplot(ypred2_BoxCox_scaled)\n",
    "ax2.yaxis.set_label_position(\"right\")\n",
    "ax2.yaxis.tick_right()\n",
    "plt.ylabel(\"Distribution\")\n",
    "\n",
    "plt.tight_layout()\n",
    "\n",
    "#plt.title(\"Large Skewness shows Right Skewed Distribution\")\n",
    "plt.savefig('./figures/fig_skewed_transform_done.png')\n",
    "\n",
    "plt.show()\n",
    "\n"
   ]
  },
  {
   "cell_type": "code",
   "execution_count": 135,
   "metadata": {},
   "outputs": [],
   "source": [
    "# print(skness_BoxCox)\n",
    "# print(skness_Orig)"
   ]
  },
  {
   "cell_type": "code",
   "execution_count": 136,
   "metadata": {},
   "outputs": [],
   "source": [
    "from sklearn.metrics import f1_score \n",
    "\n",
    "pick_entries = len(ypred2_BoxCox_scaled) ## pick a small number for testing\n",
    "\n",
    "#Converting probabilities into 1 or 0  \n",
    "ypred_final = ypred2_BoxCox_scaled[:pick_entries].copy()\n",
    "dict_threshold_score = {}\n",
    "\n",
    "threshold_list = [0.1*x for x in range(1,10)]\n",
    "for current_threshold in threshold_list:\n",
    "    for i in range(0, len(ypred_final)): \n",
    "        if ypred2_BoxCox_scaled[i]>=current_threshold:       # setting threshold\n",
    "            ypred_final[i]=1 \n",
    "        else: \n",
    "            ypred_final[i]=0\n",
    "    accuracy_f1_score_xgb = f1_score(y_val[:pick_entries],ypred_final) \n",
    "    dict_threshold_score[current_threshold] = round(accuracy_f1_score_xgb, 4) "
   ]
  },
  {
   "cell_type": "code",
   "execution_count": 176,
   "metadata": {},
   "outputs": [],
   "source": [
    "# print(dict_threshold_score)"
   ]
  },
  {
   "cell_type": "markdown",
   "metadata": {},
   "source": [
    "### Zoom In ###"
   ]
  },
  {
   "cell_type": "code",
   "execution_count": 168,
   "metadata": {},
   "outputs": [],
   "source": [
    "from sklearn.metrics import f1_score \n",
    "\n",
    "pick_entries = len(ypred2_BoxCox_scaled) ## pick a small number for testing\n",
    "\n",
    "#Converting probabilities into 1 or 0  \n",
    "ypred_final = ypred2_BoxCox_scaled[:pick_entries].copy()\n",
    "dict_threshold_score_zoom = {}\n",
    "\n",
    "threshold_list_zoom = [0.8+0.02*x for x in range(0,11)]\n",
    "for current_threshold in threshold_list_zoom:\n",
    "    for i in range(0, len(ypred_final)): \n",
    "        if ypred2_BoxCox_scaled[i]>=current_threshold:       # setting threshold\n",
    "            ypred_final[i]=1 \n",
    "        else: \n",
    "            ypred_final[i]=0\n",
    "    accuracy_f1_score_xgb = f1_score(y_val[:pick_entries],ypred_final) \n",
    "    dict_threshold_score_zoom[current_threshold] = round(accuracy_f1_score_xgb, 4) "
   ]
  },
  {
   "cell_type": "code",
   "execution_count": 175,
   "metadata": {},
   "outputs": [],
   "source": [
    "# print(dict_threshold_score_zoom)"
   ]
  },
  {
   "cell_type": "code",
   "execution_count": 173,
   "metadata": {},
   "outputs": [],
   "source": [
    "# print(list(dict_threshold_score.values()))\n",
    "# print(list(dict_threshold_score_zoom.values()))"
   ]
  },
  {
   "cell_type": "code",
   "execution_count": 172,
   "metadata": {},
   "outputs": [
    {
     "data": {
      "text/plain": [
       "<matplotlib.figure.Figure at 0x11650b9b0>"
      ]
     },
     "metadata": {},
     "output_type": "display_data"
    },
    {
     "data": {
      "text/plain": [
       "<matplotlib.figure.Figure at 0x11650b048>"
      ]
     },
     "metadata": {},
     "output_type": "display_data"
    },
    {
     "data": {
      "text/plain": [
       "<matplotlib.figure.Figure at 0x118a47f28>"
      ]
     },
     "metadata": {},
     "output_type": "display_data"
    },
    {
     "data": {
      "image/png": "[encoded data removed]",
      "text/plain": [
       "<matplotlib.figure.Figure at 0x1162c9898>"
      ]
     },
     "metadata": {},
     "output_type": "display_data"
    }
   ],
   "source": [
    "##We draw the histograms \n",
    "plt.clf()\n",
    "\n",
    "# plot it\n",
    "fig = plt.figure(figsize=(8, 6)) \n",
    "gs = GridSpec(1, 2, width_ratios=[1, 1])\n",
    "\n",
    "fig.text(0.5, -0.04, 'Probability', ha='center', fontsize=16)\n",
    "\n",
    "ax1 = plt.subplot(gs[0])\n",
    "ax1.grid(color='grey', linestyle='-', linewidth=0.5, alpha=0.5)\n",
    "plt.scatter(list(dict_threshold_score.keys()), \\\n",
    "            list(dict_threshold_score.values()), c='b')\n",
    "plt.xlabel(\"\")\n",
    "plt.ylim(0, 0.5)\n",
    "plt.ylabel(\"Accuracy\") \n",
    "ax1.xaxis.set_major_locator(ticker.MultipleLocator(0.2))\n",
    "\n",
    "ax2 = plt.subplot(gs[1])\n",
    "ax2.grid(color='grey', linestyle='-', linewidth=0.5, alpha=0.5)\n",
    "plt.scatter(list(dict_threshold_score_zoom.keys())[:-1], \\\n",
    "            list(dict_threshold_score_zoom.values())[:-1], c='r')\n",
    "plt.xlabel(\"\")\n",
    "plt.ylabel(\"\")\n",
    "plt.ylim(0, 0.5)\n",
    "\n",
    "plt.tight_layout()\n",
    "\n",
    "#plt.title(\"Large Skewness shows Right Skewed Distribution\")\n",
    "plt.savefig('./figures/fig_final_pred.png')\n",
    "\n",
    "plt.show()\n"
   ]
  },
  {
   "cell_type": "markdown",
   "metadata": {},
   "source": [
    "| threshold | f1_score | \n",
    "|-----|------|\n",
    "|0.1|0.20609277146799704|\n",
    "|0.2|0.24266729790923824|\n",
    "|0.3|0.27921806972672669|\n",
    "|0.4|0.31480840106255714|\n",
    "|0.5|0.35028018272285993|\n",
    "|0.6|0.38411666111906595|\n",
    "|0.7|0.41504802632773752|\n",
    "|0.8|0.43878364869731834|\n",
    "|0.9|0.43432638593151129|"
   ]
  }
 ],
 "metadata": {
  "kernelspec": {
   "display_name": "Python 3",
   "language": "python",
   "name": "python3"
  },
  "language_info": {
   "codemirror_mode": {
    "name": "ipython",
    "version": 3
   },
   "file_extension": ".py",
   "mimetype": "text/x-python",
   "name": "python",
   "nbconvert_exporter": "python",
   "pygments_lexer": "ipython3",
   "version": "3.6.0"
  }
 },
 "nbformat": 4,
 "nbformat_minor": 2
}
