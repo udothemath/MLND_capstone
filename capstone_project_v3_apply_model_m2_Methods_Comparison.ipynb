{
 "cells": [
  {
   "cell_type": "markdown",
   "metadata": {},
   "source": [
    "### Import the Library ###"
   ]
  },
  {
   "cell_type": "code",
   "execution_count": 2,
   "metadata": {},
   "outputs": [
    {
     "name": "stdout",
     "output_type": "stream",
     "text": [
      "aisles.csv\n",
      "departments.csv\n",
      "order_products__prior.csv\n",
      "order_products__train.csv\n",
      "orders.csv\n",
      "products.csv\n",
      "sample_submission.csv\n",
      "\n"
     ]
    }
   ],
   "source": [
    "# inspired by https://www.kaggle.com/nickycan/lb-0-3805009-python-edition\n",
    "import numpy as np   ## linear algebra\n",
    "import pandas as pd  ## data processing, CSV file I/O (e.g. pd.read_csv)\n",
    "from sklearn.model_selection import train_test_split  ## split train and test\n",
    "from IPython.display import display ## Allows the use of display() for DataFrames\n",
    "\n",
    "import matplotlib.pyplot as plt  ## data visualization\n",
    "\n",
    "import gc   ## clean up \n",
    "import time ## time it\n",
    "\n",
    "from subprocess import check_output\n",
    "print(check_output([\"ls\", \"./data\"]).decode(\"utf8\"))\n",
    "# Any results you write to the current directory are saved as output."
   ]
  },
  {
   "cell_type": "code",
   "execution_count": 3,
   "metadata": {
    "collapsed": true
   },
   "outputs": [],
   "source": [
    "class setup_your_clock:\n",
    "    def __init__(self, process_name, verbose=1):\n",
    "        self.process_name = process_name\n",
    "        self.verbose = verbose\n",
    "    def __enter__(self):\n",
    "        if self.verbose:\n",
    "            print(self.process_name + \" begin ......\")\n",
    "            self.begin_time = time.time()\n",
    "    def __exit__(self, type, value, traceback):\n",
    "        if self.verbose:\n",
    "            end_time = time.time()\n",
    "            print(self.process_name + \" end ......\")\n",
    "            print('time lapsing {0} s \\n'.format(end_time - self.begin_time))"
   ]
  },
  {
   "cell_type": "markdown",
   "metadata": {},
   "source": [
    "### Load the Dataset from Feature Engineering ###"
   ]
  },
  {
   "cell_type": "code",
   "execution_count": 4,
   "metadata": {
    "collapsed": true
   },
   "outputs": [],
   "source": [
    "## access to hdf5 file\n",
    "df_data = pd.read_hdf('saved_df_data_whole.h5', 'df_data')"
   ]
  },
  {
   "cell_type": "markdown",
   "metadata": {},
   "source": [
    "### Train / Test ###"
   ]
  },
  {
   "cell_type": "code",
   "execution_count": 5,
   "metadata": {},
   "outputs": [
    {
     "name": "stdout",
     "output_type": "stream",
     "text": [
      "Index(['user_id', 'product_id', '_up_order_count', '_up_first_order_number',\n",
      "       '_up_last_order_number', '_up_average_cart_position', '_prod_tot_cnts',\n",
      "       '_prod_reorder_tot_cnts', '_prod_buy_first_time_total_cnt',\n",
      "       '_prod_buy_second_time_total_cnt', '_prod_reorder_prob',\n",
      "       '_prod_reorder_ratio', '_user_total_orders',\n",
      "       '_user_sum_days_since_prior_order', '_user_mean_days_since_prior_order',\n",
      "       '_user_reorder_ratio', '_user_total_products',\n",
      "       '_user_distinct_products', '_user_average_basket', 'order_id',\n",
      "       'eval_set', 'time_since_last_order', '_up_order_rate',\n",
      "       '_up_order_since_last_order', '_up_order_rate_since_first_order',\n",
      "       'reordered'],\n",
      "      dtype='object')\n",
      "(13307953, 26)\n"
     ]
    }
   ],
   "source": [
    "print(df_data.columns)\n",
    "print(df_data.shape)"
   ]
  },
  {
   "cell_type": "markdown",
   "metadata": {},
   "source": [
    "### Split the Data ###"
   ]
  },
  {
   "cell_type": "code",
   "execution_count": 6,
   "metadata": {},
   "outputs": [],
   "source": [
    "df_train = df_data[df_data['eval_set'] == \"train\"].copy()\n",
    "df_train.drop(['eval_set', 'user_id', 'product_id', 'order_id'], axis=1, inplace=True)\n",
    "df_train.loc[:, 'reordered'] = df_train.reordered.fillna(0)\n",
    "\n",
    "## We can only use X_test for on-line competition submission. \n",
    "## X_test = df_data.loc[df_data['eval_set'] == \"test\"]\n",
    "\n",
    "X_df_train_raw, X_val_raw, y_df_train_raw, y_val_raw =  train_test_split(df_train.drop('reordered', axis=1), \n",
    "                                                        df_train.reordered,\n",
    "                                                        test_size=0.1, random_state=42)"
   ]
  },
  {
   "cell_type": "markdown",
   "metadata": {},
   "source": [
    "### Subset Testing Stage ### "
   ]
  },
  {
   "cell_type": "code",
   "execution_count": 30,
   "metadata": {},
   "outputs": [
    {
     "name": "stdout",
     "output_type": "stream",
     "text": [
      "---------- Original size----------\n",
      "(7627194, 21)\n",
      "---------- Subset size----------\n",
      "(76272, 21)\n"
     ]
    }
   ],
   "source": [
    "print(\"-\"*10 + \" Original size\" + \"-\"*10 )\n",
    "print(X_df_train_raw.shape)\n",
    "X_df_train = X_df_train_raw.sample(frac=0.01, random_state=311)\n",
    "y_df_train = y_df_train_raw.sample(frac=0.01, random_state=311)\n",
    "print(\"-\"*10 + \" Subset size\" + \"-\"*10 )\n",
    "print(X_df_train.shape)\n",
    "\n",
    "X_val = X_val_raw.sample(frac=0.01, random_state=311)\n",
    "y_val = y_val_raw.sample(frac=0.01, random_state=311)"
   ]
  },
  {
   "cell_type": "code",
   "execution_count": 31,
   "metadata": {},
   "outputs": [
    {
     "data": {
      "text/html": [
       "<div>\n",
       "<style>\n",
       "    .dataframe thead tr:only-child th {\n",
       "        text-align: right;\n",
       "    }\n",
       "\n",
       "    .dataframe thead th {\n",
       "        text-align: left;\n",
       "    }\n",
       "\n",
       "    .dataframe tbody tr th {\n",
       "        vertical-align: top;\n",
       "    }\n",
       "</style>\n",
       "<table border=\"1\" class=\"dataframe\">\n",
       "  <thead>\n",
       "    <tr style=\"text-align: right;\">\n",
       "      <th></th>\n",
       "      <th>_up_order_count</th>\n",
       "      <th>_up_first_order_number</th>\n",
       "      <th>_up_last_order_number</th>\n",
       "      <th>_up_average_cart_position</th>\n",
       "      <th>_prod_tot_cnts</th>\n",
       "      <th>_prod_reorder_tot_cnts</th>\n",
       "      <th>_prod_buy_first_time_total_cnt</th>\n",
       "      <th>_prod_buy_second_time_total_cnt</th>\n",
       "      <th>_prod_reorder_prob</th>\n",
       "      <th>_prod_reorder_ratio</th>\n",
       "      <th>...</th>\n",
       "      <th>_user_sum_days_since_prior_order</th>\n",
       "      <th>_user_mean_days_since_prior_order</th>\n",
       "      <th>_user_reorder_ratio</th>\n",
       "      <th>_user_total_products</th>\n",
       "      <th>_user_distinct_products</th>\n",
       "      <th>_user_average_basket</th>\n",
       "      <th>time_since_last_order</th>\n",
       "      <th>_up_order_rate</th>\n",
       "      <th>_up_order_since_last_order</th>\n",
       "      <th>_up_order_rate_since_first_order</th>\n",
       "    </tr>\n",
       "  </thead>\n",
       "  <tbody>\n",
       "    <tr>\n",
       "      <th>6717076</th>\n",
       "      <td>2</td>\n",
       "      <td>6</td>\n",
       "      <td>14</td>\n",
       "      <td>6.0</td>\n",
       "      <td>67283</td>\n",
       "      <td>41585.0</td>\n",
       "      <td>25698</td>\n",
       "      <td>12733</td>\n",
       "      <td>0.495486</td>\n",
       "      <td>0.618061</td>\n",
       "      <td>...</td>\n",
       "      <td>356.0</td>\n",
       "      <td>5.562500</td>\n",
       "      <td>0.823980</td>\n",
       "      <td>802</td>\n",
       "      <td>156</td>\n",
       "      <td>12.338462</td>\n",
       "      <td>3.0</td>\n",
       "      <td>0.030769</td>\n",
       "      <td>51</td>\n",
       "      <td>0.033333</td>\n",
       "    </tr>\n",
       "    <tr>\n",
       "      <th>4858197</th>\n",
       "      <td>8</td>\n",
       "      <td>5</td>\n",
       "      <td>71</td>\n",
       "      <td>11.5</td>\n",
       "      <td>17716</td>\n",
       "      <td>8477.0</td>\n",
       "      <td>9239</td>\n",
       "      <td>3525</td>\n",
       "      <td>0.381535</td>\n",
       "      <td>0.478494</td>\n",
       "      <td>...</td>\n",
       "      <td>358.0</td>\n",
       "      <td>4.649351</td>\n",
       "      <td>0.815356</td>\n",
       "      <td>1116</td>\n",
       "      <td>224</td>\n",
       "      <td>14.307692</td>\n",
       "      <td>6.0</td>\n",
       "      <td>0.102564</td>\n",
       "      <td>7</td>\n",
       "      <td>0.108108</td>\n",
       "    </tr>\n",
       "    <tr>\n",
       "      <th>9346092</th>\n",
       "      <td>2</td>\n",
       "      <td>2</td>\n",
       "      <td>8</td>\n",
       "      <td>7.0</td>\n",
       "      <td>7642</td>\n",
       "      <td>4756.0</td>\n",
       "      <td>2886</td>\n",
       "      <td>1258</td>\n",
       "      <td>0.435897</td>\n",
       "      <td>0.622350</td>\n",
       "      <td>...</td>\n",
       "      <td>194.0</td>\n",
       "      <td>27.714285</td>\n",
       "      <td>0.409836</td>\n",
       "      <td>138</td>\n",
       "      <td>88</td>\n",
       "      <td>17.250000</td>\n",
       "      <td>24.0</td>\n",
       "      <td>0.250000</td>\n",
       "      <td>0</td>\n",
       "      <td>0.285714</td>\n",
       "    </tr>\n",
       "  </tbody>\n",
       "</table>\n",
       "<p>3 rows × 21 columns</p>\n",
       "</div>"
      ],
      "text/plain": [
       "         _up_order_count  _up_first_order_number  _up_last_order_number  \\\n",
       "6717076                2                       6                     14   \n",
       "4858197                8                       5                     71   \n",
       "9346092                2                       2                      8   \n",
       "\n",
       "         _up_average_cart_position  _prod_tot_cnts  _prod_reorder_tot_cnts  \\\n",
       "6717076                        6.0           67283                 41585.0   \n",
       "4858197                       11.5           17716                  8477.0   \n",
       "9346092                        7.0            7642                  4756.0   \n",
       "\n",
       "         _prod_buy_first_time_total_cnt  _prod_buy_second_time_total_cnt  \\\n",
       "6717076                           25698                            12733   \n",
       "4858197                            9239                             3525   \n",
       "9346092                            2886                             1258   \n",
       "\n",
       "         _prod_reorder_prob  _prod_reorder_ratio  \\\n",
       "6717076            0.495486             0.618061   \n",
       "4858197            0.381535             0.478494   \n",
       "9346092            0.435897             0.622350   \n",
       "\n",
       "                       ...                 _user_sum_days_since_prior_order  \\\n",
       "6717076                ...                                            356.0   \n",
       "4858197                ...                                            358.0   \n",
       "9346092                ...                                            194.0   \n",
       "\n",
       "         _user_mean_days_since_prior_order  _user_reorder_ratio  \\\n",
       "6717076                           5.562500             0.823980   \n",
       "4858197                           4.649351             0.815356   \n",
       "9346092                          27.714285             0.409836   \n",
       "\n",
       "         _user_total_products  _user_distinct_products  _user_average_basket  \\\n",
       "6717076                   802                      156             12.338462   \n",
       "4858197                  1116                      224             14.307692   \n",
       "9346092                   138                       88             17.250000   \n",
       "\n",
       "         time_since_last_order  _up_order_rate  _up_order_since_last_order  \\\n",
       "6717076                    3.0        0.030769                          51   \n",
       "4858197                    6.0        0.102564                           7   \n",
       "9346092                   24.0        0.250000                           0   \n",
       "\n",
       "         _up_order_rate_since_first_order  \n",
       "6717076                          0.033333  \n",
       "4858197                          0.108108  \n",
       "9346092                          0.285714  \n",
       "\n",
       "[3 rows x 21 columns]"
      ]
     },
     "metadata": {},
     "output_type": "display_data"
    }
   ],
   "source": [
    "display(X_df_train.head(3))"
   ]
  },
  {
   "cell_type": "markdown",
   "metadata": {},
   "source": [
    "### Normalizing Numerical Features ###  \n",
    "In practice, the features are normalized so that each feature distribution is treated equally when applying machine learning techniques. It is worth to emphasize that once the scaling is applied, the normalized features cannot be interpreted as the same meaning as the raw data.\n"
   ]
  },
  {
   "cell_type": "code",
   "execution_count": 32,
   "metadata": {},
   "outputs": [],
   "source": [
    "## Initialize a scaler, then apply it to the features\n",
    "## StandardScaler Wrapper\n",
    "## https://stackoverflow.com/questions/35723472/how-to-use-sklearn-fit-transform-with-pandas-and-return-dataframe-instead-of-num\n",
    "from sklearn.preprocessing import StandardScaler\n",
    "from sklearn_pandas import DataFrameMapper\n",
    "\n",
    "scaler = StandardScaler()\n",
    "mapper = DataFrameMapper([(X_df_train.columns, StandardScaler())])\n",
    "scaled_features = np.round(mapper.fit_transform(X_df_train.copy()), 4)\n",
    "X_df_train_scaled = pd.DataFrame(scaled_features, index=X_df_train.index, columns=X_df_train.columns)"
   ]
  },
  {
   "cell_type": "code",
   "execution_count": 33,
   "metadata": {},
   "outputs": [
    {
     "data": {
      "text/html": [
       "<div>\n",
       "<style>\n",
       "    .dataframe thead tr:only-child th {\n",
       "        text-align: right;\n",
       "    }\n",
       "\n",
       "    .dataframe thead th {\n",
       "        text-align: left;\n",
       "    }\n",
       "\n",
       "    .dataframe tbody tr th {\n",
       "        vertical-align: top;\n",
       "    }\n",
       "</style>\n",
       "<table border=\"1\" class=\"dataframe\">\n",
       "  <thead>\n",
       "    <tr style=\"text-align: right;\">\n",
       "      <th></th>\n",
       "      <th>_up_order_count</th>\n",
       "      <th>_up_first_order_number</th>\n",
       "      <th>_up_last_order_number</th>\n",
       "      <th>_up_average_cart_position</th>\n",
       "      <th>_prod_tot_cnts</th>\n",
       "      <th>_prod_reorder_tot_cnts</th>\n",
       "      <th>_prod_buy_first_time_total_cnt</th>\n",
       "      <th>_prod_buy_second_time_total_cnt</th>\n",
       "      <th>_prod_reorder_prob</th>\n",
       "      <th>_prod_reorder_ratio</th>\n",
       "      <th>...</th>\n",
       "      <th>_user_sum_days_since_prior_order</th>\n",
       "      <th>_user_mean_days_since_prior_order</th>\n",
       "      <th>_user_reorder_ratio</th>\n",
       "      <th>_user_total_products</th>\n",
       "      <th>_user_distinct_products</th>\n",
       "      <th>_user_average_basket</th>\n",
       "      <th>time_since_last_order</th>\n",
       "      <th>_up_order_rate</th>\n",
       "      <th>_up_order_since_last_order</th>\n",
       "      <th>_up_order_rate_since_first_order</th>\n",
       "    </tr>\n",
       "  </thead>\n",
       "  <tbody>\n",
       "    <tr>\n",
       "      <th>6717076</th>\n",
       "      <td>-0.1262</td>\n",
       "      <td>-0.3484</td>\n",
       "      <td>-0.1107</td>\n",
       "      <td>-0.4591</td>\n",
       "      <td>0.8094</td>\n",
       "      <td>0.5806</td>\n",
       "      <td>1.6155</td>\n",
       "      <td>1.2167</td>\n",
       "      <td>0.7212</td>\n",
       "      <td>0.5145</td>\n",
       "      <td>...</td>\n",
       "      <td>1.3541</td>\n",
       "      <td>-1.0986</td>\n",
       "      <td>1.4856</td>\n",
       "      <td>1.6002</td>\n",
       "      <td>0.5373</td>\n",
       "      <td>-0.0493</td>\n",
       "      <td>-1.0943</td>\n",
       "      <td>-0.7530</td>\n",
       "      <td>3.0969</td>\n",
       "      <td>-0.9359</td>\n",
       "    </tr>\n",
       "    <tr>\n",
       "      <th>4858197</th>\n",
       "      <td>1.5515</td>\n",
       "      <td>-0.4225</td>\n",
       "      <td>3.1801</td>\n",
       "      <td>0.3309</td>\n",
       "      <td>-0.0857</td>\n",
       "      <td>-0.1647</td>\n",
       "      <td>0.2183</td>\n",
       "      <td>-0.0008</td>\n",
       "      <td>-0.1405</td>\n",
       "      <td>-0.3428</td>\n",
       "      <td>...</td>\n",
       "      <td>1.3728</td>\n",
       "      <td>-1.2398</td>\n",
       "      <td>1.4407</td>\n",
       "      <td>2.6208</td>\n",
       "      <td>1.4092</td>\n",
       "      <td>0.2656</td>\n",
       "      <td>-0.8054</td>\n",
       "      <td>-0.3166</td>\n",
       "      <td>-0.1843</td>\n",
       "      <td>-0.6700</td>\n",
       "    </tr>\n",
       "    <tr>\n",
       "      <th>9346092</th>\n",
       "      <td>-0.1262</td>\n",
       "      <td>-0.6446</td>\n",
       "      <td>-0.4571</td>\n",
       "      <td>-0.3155</td>\n",
       "      <td>-0.2676</td>\n",
       "      <td>-0.2484</td>\n",
       "      <td>-0.3211</td>\n",
       "      <td>-0.3005</td>\n",
       "      <td>0.2706</td>\n",
       "      <td>0.5408</td>\n",
       "      <td>...</td>\n",
       "      <td>-0.1640</td>\n",
       "      <td>2.3270</td>\n",
       "      <td>-0.6709</td>\n",
       "      <td>-0.5582</td>\n",
       "      <td>-0.3346</td>\n",
       "      <td>0.7362</td>\n",
       "      <td>0.9284</td>\n",
       "      <td>0.5795</td>\n",
       "      <td>-0.7063</td>\n",
       "      <td>-0.0384</td>\n",
       "    </tr>\n",
       "  </tbody>\n",
       "</table>\n",
       "<p>3 rows × 21 columns</p>\n",
       "</div>"
      ],
      "text/plain": [
       "         _up_order_count  _up_first_order_number  _up_last_order_number  \\\n",
       "6717076          -0.1262                 -0.3484                -0.1107   \n",
       "4858197           1.5515                 -0.4225                 3.1801   \n",
       "9346092          -0.1262                 -0.6446                -0.4571   \n",
       "\n",
       "         _up_average_cart_position  _prod_tot_cnts  _prod_reorder_tot_cnts  \\\n",
       "6717076                    -0.4591          0.8094                  0.5806   \n",
       "4858197                     0.3309         -0.0857                 -0.1647   \n",
       "9346092                    -0.3155         -0.2676                 -0.2484   \n",
       "\n",
       "         _prod_buy_first_time_total_cnt  _prod_buy_second_time_total_cnt  \\\n",
       "6717076                          1.6155                           1.2167   \n",
       "4858197                          0.2183                          -0.0008   \n",
       "9346092                         -0.3211                          -0.3005   \n",
       "\n",
       "         _prod_reorder_prob  _prod_reorder_ratio  \\\n",
       "6717076              0.7212               0.5145   \n",
       "4858197             -0.1405              -0.3428   \n",
       "9346092              0.2706               0.5408   \n",
       "\n",
       "                       ...                 _user_sum_days_since_prior_order  \\\n",
       "6717076                ...                                           1.3541   \n",
       "4858197                ...                                           1.3728   \n",
       "9346092                ...                                          -0.1640   \n",
       "\n",
       "         _user_mean_days_since_prior_order  _user_reorder_ratio  \\\n",
       "6717076                            -1.0986               1.4856   \n",
       "4858197                            -1.2398               1.4407   \n",
       "9346092                             2.3270              -0.6709   \n",
       "\n",
       "         _user_total_products  _user_distinct_products  _user_average_basket  \\\n",
       "6717076                1.6002                   0.5373               -0.0493   \n",
       "4858197                2.6208                   1.4092                0.2656   \n",
       "9346092               -0.5582                  -0.3346                0.7362   \n",
       "\n",
       "         time_since_last_order  _up_order_rate  _up_order_since_last_order  \\\n",
       "6717076                -1.0943         -0.7530                      3.0969   \n",
       "4858197                -0.8054         -0.3166                     -0.1843   \n",
       "9346092                 0.9284          0.5795                     -0.7063   \n",
       "\n",
       "         _up_order_rate_since_first_order  \n",
       "6717076                           -0.9359  \n",
       "4858197                           -0.6700  \n",
       "9346092                           -0.0384  \n",
       "\n",
       "[3 rows x 21 columns]"
      ]
     },
     "metadata": {},
     "output_type": "display_data"
    }
   ],
   "source": [
    "display(X_df_train_scaled.head(3))\n",
    "display(y_df_train.head(3))"
   ]
  },
  {
   "cell_type": "markdown",
   "metadata": {},
   "source": [
    "### Join the Table ###"
   ]
  },
  {
   "cell_type": "code",
   "execution_count": 35,
   "metadata": {},
   "outputs": [],
   "source": [
    "## df_data contains features and target after the merge.\n",
    "df_data = X_df_train_scaled.join(y_df_train)\n",
    "\n",
    "features = X_df_train_scaled\n",
    "##print(features.head(3))\n",
    "target = y_df_train\n",
    "##print(target.head(3))"
   ]
  },
  {
   "cell_type": "markdown",
   "metadata": {},
   "source": [
    "### Check Whether There is Missing Data(NaN) ###"
   ]
  },
  {
   "cell_type": "code",
   "execution_count": 38,
   "metadata": {},
   "outputs": [
    {
     "name": "stdout",
     "output_type": "stream",
     "text": [
      "True means there is missing data, otherwise no.\n",
      "False\n"
     ]
    }
   ],
   "source": [
    "## print(X_df_train.isnull().values.any())\n",
    "print(\"True means there is missing data, otherwise no.\")\n",
    "print(df_data.isnull().values.any())\n",
    "\n",
    "# if df_data.isnull().values.any():\n",
    "#     nan_rows = df_data[df_data.isnull().any(1)]\n",
    "# print(len(nan_rows))"
   ]
  },
  {
   "cell_type": "markdown",
   "metadata": {},
   "source": [
    "### Model Evaluation: Quantifying the Quality of Predictions ###  "
   ]
  },
  {
   "cell_type": "code",
   "execution_count": 134,
   "metadata": {},
   "outputs": [],
   "source": [
    "# Compare Algorithms\n",
    "from sklearn import model_selection\n",
    "from sklearn.linear_model import LogisticRegression\n",
    "from sklearn.neighbors import KNeighborsClassifier\n",
    "from sklearn.tree import DecisionTreeClassifier\n",
    "from sklearn.naive_bayes import GaussianNB\n",
    "from sklearn.ensemble import RandomForestClassifier, AdaBoostClassifier\n",
    "\n",
    "##import matplotlib.pyplot as plt"
   ]
  },
  {
   "cell_type": "code",
   "execution_count": 147,
   "metadata": {},
   "outputs": [],
   "source": [
    "## X_train, X_test, y_train, y_test\n",
    "X = X_df_train_scaled.as_matrix(columns=None)\n",
    "Y = y_df_train.as_matrix(columns=None)"
   ]
  },
  {
   "cell_type": "code",
   "execution_count": 148,
   "metadata": {},
   "outputs": [
    {
     "name": "stdout",
     "output_type": "stream",
     "text": [
      "Method: Average (Standard Deviation)\n",
      "\n",
      "DecisionTree: 0.274 (0.012)\n",
      "LogisticReg: 0.246 (0.016)\n",
      "KNN: 0.251 (0.014)\n",
      "GaussianNB: 0.372 (0.011)\n",
      "RandomForest: 0.239 (0.018)\n",
      "AdaBoost: 0.245 (0.019)\n"
     ]
    }
   ],
   "source": [
    "n_splits_KFOLD = 8\n",
    "\n",
    "# prepare configuration for cross validation test harness\n",
    "RANDOM_SEED = 999\n",
    "seed = 123\n",
    "# prepare models\n",
    "models = []\n",
    "models.append(('DecisionTree', DecisionTreeClassifier(random_state=RANDOM_SEED)))\n",
    "models.append(('LogisticReg', LogisticRegression(random_state=RANDOM_SEED)))\n",
    "models.append(('KNN', KNeighborsClassifier()))\n",
    "models.append(('GaussianNB', GaussianNB()))\n",
    "models.append(('RandomForest',  RandomForestClassifier(random_state=RANDOM_SEED)))\n",
    "models.append(('AdaBoost', AdaBoostClassifier(random_state=RANDOM_SEED)))\n",
    "\n",
    "# evaluate each model in turn\n",
    "results_all = []\n",
    "names = []\n",
    "dict_method_score = {}\n",
    "scoring = 'f1'\n",
    "\n",
    "pickle_filename=\"m2_Methods_Comparison.p\"\n",
    "\n",
    "with open(pickle_filename, \"wb\") as f:\n",
    "    print(\"Method: Average (Standard Deviation)\\n\")\n",
    "        for name, model in models:\n",
    "            pickle.dump(model, f)\n",
    "            kfold = model_selection.KFold(n_splits=n_splits_KFOLD, random_state=seed)\n",
    "            cv_results = model_selection.cross_val_score(model, X, Y, cv=kfold, scoring=scoring)\n",
    "            results_all.append(cv_results)\n",
    "            names.append(name)\n",
    "            dict_method_score[name] = (cv_results.mean(), cv_results.std())\n",
    "            print(\"{:s}: {:.3f} ({:.3f})\".format(name, cv_results.mean(), cv_results.std()))"
   ]
  },
  {
   "cell_type": "code",
   "execution_count": 189,
   "metadata": {},
   "outputs": [
    {
     "name": "stdout",
     "output_type": "stream",
     "text": [
      "[array([ 0.25510204,  0.29759519,  0.28499749,  0.27480159,  0.27227227,\n",
      "        0.26498741,  0.26598465,  0.276     ]), array([ 0.23592493,  0.26533997,  0.25404945,  0.23302598,  0.27187766,\n",
      "        0.22450728,  0.24956672,  0.23509075]), array([ 0.22727273,  0.25753012,  0.259375  ,  0.24756189,  0.27355623,\n",
      "        0.23041475,  0.25541796,  0.25668449]), array([ 0.35679068,  0.3824667 ,  0.37246249,  0.37942956,  0.37882765,\n",
      "        0.35904139,  0.36010591,  0.38552115]), array([ 0.22144725,  0.26058632,  0.25560166,  0.23873518,  0.25889968,\n",
      "        0.24673203,  0.213858  ,  0.21566976]), array([ 0.22669104,  0.25649623,  0.27516779,  0.24625624,  0.26411816,\n",
      "        0.21428571,  0.24567474,  0.22896791])]\n"
     ]
    }
   ],
   "source": [
    "print(results_all)"
   ]
  },
  {
   "cell_type": "markdown",
   "metadata": {},
   "source": [
    "### Load Saved Model ###"
   ]
  },
  {
   "cell_type": "code",
   "execution_count": 165,
   "metadata": {},
   "outputs": [],
   "source": [
    "models = []\n",
    "with open(pickle_filename, \"rb\") as f:\n",
    "    while True:\n",
    "        try:\n",
    "            models.append(pickle.load(f))\n",
    "        except EOFError:\n",
    "            break"
   ]
  },
  {
   "cell_type": "code",
   "execution_count": 183,
   "metadata": {},
   "outputs": [
    {
     "data": {
      "image/png": "[encoded data removed]",
      "text/plain": [
       "<matplotlib.figure.Figure at 0x11fe484e0>"
      ]
     },
     "metadata": {},
     "output_type": "display_data"
    }
   ],
   "source": [
    "# boxplot algorithm comparison\n",
    "plt.rc('legend', fontsize=8)    # legend fontsize\n",
    "fig = plt.figure()\n",
    "fig.suptitle('Algorithm Comparison')\n",
    "ax = fig.add_subplot(111)\n",
    "bplot_1 = plt.boxplot(results_all, patch_artist=True)\n",
    "plt.xticks(rotation=20)\n",
    "plt.ylabel('Accuracy - F1 Scores')\n",
    "ax.set_xticklabels(names)\n",
    "\n",
    "plt.savefig('./figures/fig_algorithm_compare.png')\n",
    "plt.show()"
   ]
  },
  {
   "cell_type": "markdown",
   "metadata": {},
   "source": [
    "### Another Data Visualization ###"
   ]
  },
  {
   "cell_type": "code",
   "execution_count": 188,
   "metadata": {},
   "outputs": [
    {
     "data": {
      "image/png": "[encoded data removed]",
      "text/plain": [
       "<matplotlib.figure.Figure at 0x12481bef0>"
      ]
     },
     "metadata": {},
     "output_type": "display_data"
    }
   ],
   "source": [
    "import seaborn as sns\n",
    "sns.set_style(\"whitegrid\")\n",
    "sns.set(font_scale=1.5)\n",
    "fig = plt.figure()\n",
    "plt.ylabel('Accuracy - F1 Scores')\n",
    "ax = sns.violinplot(data=results_all, palette=\"muted\")\n",
    "fig.get_axes()[0].set_xticklabels(names, rotation=30)\n",
    "fig.tight_layout()\n",
    "sns.plt.savefig('./figures/fig_algo_sns.png')\n",
    "\n",
    "sns.plt.show()\n"
   ]
  },
  {
   "cell_type": "code",
   "execution_count": null,
   "metadata": {},
   "outputs": [],
   "source": []
  },
  {
   "cell_type": "code",
   "execution_count": null,
   "metadata": {},
   "outputs": [],
   "source": []
  }
 ],
 "metadata": {
  "kernelspec": {
   "display_name": "Python 3",
   "language": "python",
   "name": "python3"
  },
  "language_info": {
   "codemirror_mode": {
    "name": "ipython",
    "version": 3
   },
   "file_extension": ".py",
   "mimetype": "text/x-python",
   "name": "python",
   "nbconvert_exporter": "python",
   "pygments_lexer": "ipython3",
   "version": "3.6.0"
  }
 },
 "nbformat": 4,
 "nbformat_minor": 2
}
