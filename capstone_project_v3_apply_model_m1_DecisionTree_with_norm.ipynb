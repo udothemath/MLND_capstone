{
 "cells": [
  {
   "cell_type": "markdown",
   "metadata": {},
   "source": [
    "### Import the Library ###"
   ]
  },
  {
   "cell_type": "code",
   "execution_count": 7,
   "metadata": {},
   "outputs": [
    {
     "name": "stdout",
     "output_type": "stream",
     "text": [
      "aisles.csv\n",
      "departments.csv\n",
      "order_products__prior.csv\n",
      "order_products__train.csv\n",
      "orders.csv\n",
      "products.csv\n",
      "sample_submission.csv\n",
      "\n"
     ]
    }
   ],
   "source": [
    "# inspired by https://www.kaggle.com/nickycan/lb-0-3805009-python-edition\n",
    "import numpy as np   ## linear algebra\n",
    "import pandas as pd  ## data processing, CSV file I/O (e.g. pd.read_csv)\n",
    "from sklearn.model_selection import train_test_split  ## split train and test\n",
    "from IPython.display import display ## Allows the use of display() for DataFrames\n",
    "\n",
    "import matplotlib.pyplot as plt  ## data visualization\n",
    "\n",
    "import gc   ## clean up \n",
    "import time ## time it\n",
    "\n",
    "from subprocess import check_output\n",
    "print(check_output([\"ls\", \"./data\"]).decode(\"utf8\"))\n",
    "# Any results you write to the current directory are saved as output."
   ]
  },
  {
   "cell_type": "code",
   "execution_count": 8,
   "metadata": {
    "collapsed": true
   },
   "outputs": [],
   "source": [
    "class setup_your_clock:\n",
    "    def __init__(self, process_name, verbose=1):\n",
    "        self.process_name = process_name\n",
    "        self.verbose = verbose\n",
    "    def __enter__(self):\n",
    "        if self.verbose:\n",
    "            print(self.process_name + \" begin ......\")\n",
    "            self.begin_time = time.time()\n",
    "    def __exit__(self, type, value, traceback):\n",
    "        if self.verbose:\n",
    "            end_time = time.time()\n",
    "            print(self.process_name + \" end ......\")\n",
    "            print('time lapsing {0} s \\n'.format(end_time - self.begin_time))"
   ]
  },
  {
   "cell_type": "markdown",
   "metadata": {},
   "source": [
    "### Load the Dataset from Feature Engineering ###"
   ]
  },
  {
   "cell_type": "code",
   "execution_count": 9,
   "metadata": {
    "collapsed": true
   },
   "outputs": [],
   "source": [
    "## access to hdf5 file\n",
    "df_data = pd.read_hdf('saved_df_data_whole.h5', 'df_data')"
   ]
  },
  {
   "cell_type": "markdown",
   "metadata": {},
   "source": [
    "### Train / Test ###"
   ]
  },
  {
   "cell_type": "code",
   "execution_count": 10,
   "metadata": {},
   "outputs": [
    {
     "name": "stdout",
     "output_type": "stream",
     "text": [
      "Index(['user_id', 'product_id', '_up_order_count', '_up_first_order_number',\n",
      "       '_up_last_order_number', '_up_average_cart_position', '_prod_tot_cnts',\n",
      "       '_prod_reorder_tot_cnts', '_prod_buy_first_time_total_cnt',\n",
      "       '_prod_buy_second_time_total_cnt', '_prod_reorder_prob',\n",
      "       '_prod_reorder_ratio', '_user_total_orders',\n",
      "       '_user_sum_days_since_prior_order', '_user_mean_days_since_prior_order',\n",
      "       '_user_reorder_ratio', '_user_total_products',\n",
      "       '_user_distinct_products', '_user_average_basket', 'order_id',\n",
      "       'eval_set', 'time_since_last_order', '_up_order_rate',\n",
      "       '_up_order_since_last_order', '_up_order_rate_since_first_order',\n",
      "       'reordered'],\n",
      "      dtype='object')\n",
      "(13307953, 26)\n"
     ]
    }
   ],
   "source": [
    "print(df_data.columns)\n",
    "print(df_data.shape)"
   ]
  },
  {
   "cell_type": "markdown",
   "metadata": {},
   "source": [
    "### Save the Table Into LaTeX Format ###  \n",
    "Because the table is a long which doesn't fit in one line, we split it into three segments instead."
   ]
  },
  {
   "cell_type": "code",
   "execution_count": 11,
   "metadata": {},
   "outputs": [
    {
     "data": {
      "text/html": [
       "<div>\n",
       "<style>\n",
       "    .dataframe thead tr:only-child th {\n",
       "        text-align: right;\n",
       "    }\n",
       "\n",
       "    .dataframe thead th {\n",
       "        text-align: left;\n",
       "    }\n",
       "\n",
       "    .dataframe tbody tr th {\n",
       "        vertical-align: top;\n",
       "    }\n",
       "</style>\n",
       "<table border=\"1\" class=\"dataframe\">\n",
       "  <thead>\n",
       "    <tr style=\"text-align: right;\">\n",
       "      <th></th>\n",
       "      <th>user_id</th>\n",
       "      <th>product_id</th>\n",
       "      <th>_up_order_count</th>\n",
       "      <th>_up_first_order_number</th>\n",
       "      <th>_up_last_order_number</th>\n",
       "      <th>_up_average_cart_position</th>\n",
       "      <th>_prod_tot_cnts</th>\n",
       "      <th>_prod_reorder_tot_cnts</th>\n",
       "      <th>_prod_buy_first_time_total_cnt</th>\n",
       "    </tr>\n",
       "  </thead>\n",
       "  <tbody>\n",
       "    <tr>\n",
       "      <th>count</th>\n",
       "      <td>100.00</td>\n",
       "      <td>100.00</td>\n",
       "      <td>100.00</td>\n",
       "      <td>100.00</td>\n",
       "      <td>100.00</td>\n",
       "      <td>100.00</td>\n",
       "      <td>100.00</td>\n",
       "      <td>100.00</td>\n",
       "      <td>100.00</td>\n",
       "    </tr>\n",
       "    <tr>\n",
       "      <th>mean</th>\n",
       "      <td>15.24</td>\n",
       "      <td>18290.49</td>\n",
       "      <td>2.46</td>\n",
       "      <td>4.45</td>\n",
       "      <td>7.32</td>\n",
       "      <td>12.01</td>\n",
       "      <td>10500.63</td>\n",
       "      <td>7652.30</td>\n",
       "      <td>2848.33</td>\n",
       "    </tr>\n",
       "    <tr>\n",
       "      <th>std</th>\n",
       "      <td>6.84</td>\n",
       "      <td>12191.47</td>\n",
       "      <td>2.58</td>\n",
       "      <td>3.23</td>\n",
       "      <td>4.79</td>\n",
       "      <td>9.45</td>\n",
       "      <td>39539.90</td>\n",
       "      <td>32592.96</td>\n",
       "      <td>7282.05</td>\n",
       "    </tr>\n",
       "    <tr>\n",
       "      <th>min</th>\n",
       "      <td>1.00</td>\n",
       "      <td>196.00</td>\n",
       "      <td>1.00</td>\n",
       "      <td>1.00</td>\n",
       "      <td>1.00</td>\n",
       "      <td>1.00</td>\n",
       "      <td>5.00</td>\n",
       "      <td>0.00</td>\n",
       "      <td>4.00</td>\n",
       "    </tr>\n",
       "    <tr>\n",
       "      <th>25%</th>\n",
       "      <td>15.00</td>\n",
       "      <td>10412.25</td>\n",
       "      <td>1.00</td>\n",
       "      <td>1.00</td>\n",
       "      <td>4.00</td>\n",
       "      <td>4.00</td>\n",
       "      <td>230.00</td>\n",
       "      <td>72.75</td>\n",
       "      <td>125.75</td>\n",
       "    </tr>\n",
       "    <tr>\n",
       "      <th>50%</th>\n",
       "      <td>19.00</td>\n",
       "      <td>16227.00</td>\n",
       "      <td>1.00</td>\n",
       "      <td>4.00</td>\n",
       "      <td>7.00</td>\n",
       "      <td>9.67</td>\n",
       "      <td>1287.00</td>\n",
       "      <td>556.00</td>\n",
       "      <td>559.50</td>\n",
       "    </tr>\n",
       "    <tr>\n",
       "      <th>75%</th>\n",
       "      <td>19.00</td>\n",
       "      <td>23120.00</td>\n",
       "      <td>3.00</td>\n",
       "      <td>7.00</td>\n",
       "      <td>9.00</td>\n",
       "      <td>17.25</td>\n",
       "      <td>6688.75</td>\n",
       "      <td>3749.25</td>\n",
       "      <td>2673.00</td>\n",
       "    </tr>\n",
       "    <tr>\n",
       "      <th>max</th>\n",
       "      <td>19.00</td>\n",
       "      <td>49235.00</td>\n",
       "      <td>11.00</td>\n",
       "      <td>15.00</td>\n",
       "      <td>22.00</td>\n",
       "      <td>39.00</td>\n",
       "      <td>379450.00</td>\n",
       "      <td>315913.00</td>\n",
       "      <td>63537.00</td>\n",
       "    </tr>\n",
       "  </tbody>\n",
       "</table>\n",
       "</div>"
      ],
      "text/plain": [
       "      user_id product_id _up_order_count _up_first_order_number  \\\n",
       "count  100.00     100.00          100.00                 100.00   \n",
       "mean    15.24   18290.49            2.46                   4.45   \n",
       "std      6.84   12191.47            2.58                   3.23   \n",
       "min      1.00     196.00            1.00                   1.00   \n",
       "25%     15.00   10412.25            1.00                   1.00   \n",
       "50%     19.00   16227.00            1.00                   4.00   \n",
       "75%     19.00   23120.00            3.00                   7.00   \n",
       "max     19.00   49235.00           11.00                  15.00   \n",
       "\n",
       "      _up_last_order_number _up_average_cart_position _prod_tot_cnts  \\\n",
       "count                100.00                    100.00         100.00   \n",
       "mean                   7.32                     12.01       10500.63   \n",
       "std                    4.79                      9.45       39539.90   \n",
       "min                    1.00                      1.00           5.00   \n",
       "25%                    4.00                      4.00         230.00   \n",
       "50%                    7.00                      9.67        1287.00   \n",
       "75%                    9.00                     17.25        6688.75   \n",
       "max                   22.00                     39.00      379450.00   \n",
       "\n",
       "      _prod_reorder_tot_cnts _prod_buy_first_time_total_cnt  \n",
       "count                 100.00                         100.00  \n",
       "mean                 7652.30                        2848.33  \n",
       "std                 32592.96                        7282.05  \n",
       "min                     0.00                           4.00  \n",
       "25%                    72.75                         125.75  \n",
       "50%                   556.00                         559.50  \n",
       "75%                  3749.25                        2673.00  \n",
       "max                315913.00                       63537.00  "
      ]
     },
     "metadata": {},
     "output_type": "display_data"
    }
   ],
   "source": [
    "#display(df_data[:100].describe().applymap('{:,.2f}'.format))\n",
    "display(df_data.iloc[:100, :9].describe().applymap('{:.2f}'.format))"
   ]
  },
  {
   "cell_type": "code",
   "execution_count": 12,
   "metadata": {},
   "outputs": [],
   "source": [
    "## print(df_data.iloc[:, :9].describe().applymap('{:.2f}'.format).to_latex())"
   ]
  },
  {
   "cell_type": "code",
   "execution_count": 13,
   "metadata": {},
   "outputs": [],
   "source": [
    "## print(df_data.iloc[:, 9:18].describe().applymap('{:.2f}'.format).to_latex())"
   ]
  },
  {
   "cell_type": "code",
   "execution_count": 14,
   "metadata": {},
   "outputs": [],
   "source": [
    "## print(df_data.iloc[:, 18:].describe().applymap('{:.2f}'.format).to_latex())"
   ]
  },
  {
   "cell_type": "markdown",
   "metadata": {},
   "source": [
    "### Split the Data ###"
   ]
  },
  {
   "cell_type": "code",
   "execution_count": 15,
   "metadata": {},
   "outputs": [],
   "source": [
    "df_train = df_data[df_data['eval_set'] == \"train\"].copy()\n",
    "df_train.drop(['eval_set', 'user_id', 'product_id', 'order_id'], axis=1, inplace=True)\n",
    "df_train.loc[:, 'reordered'] = df_train.reordered.fillna(0)"
   ]
  },
  {
   "cell_type": "code",
   "execution_count": 16,
   "metadata": {},
   "outputs": [],
   "source": [
    "## display(df_train.head(4))"
   ]
  },
  {
   "cell_type": "code",
   "execution_count": 17,
   "metadata": {},
   "outputs": [],
   "source": [
    "from sklearn.preprocessing import MinMaxScaler\n",
    "scaler = MinMaxScaler()\n",
    "df_train = pd.DataFrame(scaler.fit_transform(df_train), columns = df_train.columns.values)\n"
   ]
  },
  {
   "cell_type": "code",
   "execution_count": 18,
   "metadata": {},
   "outputs": [
    {
     "data": {
      "text/html": [
       "<div>\n",
       "<style>\n",
       "    .dataframe thead tr:only-child th {\n",
       "        text-align: right;\n",
       "    }\n",
       "\n",
       "    .dataframe thead th {\n",
       "        text-align: left;\n",
       "    }\n",
       "\n",
       "    .dataframe tbody tr th {\n",
       "        vertical-align: top;\n",
       "    }\n",
       "</style>\n",
       "<table border=\"1\" class=\"dataframe\">\n",
       "  <thead>\n",
       "    <tr style=\"text-align: right;\">\n",
       "      <th></th>\n",
       "      <th>_up_order_count</th>\n",
       "      <th>_up_first_order_number</th>\n",
       "      <th>_up_last_order_number</th>\n",
       "      <th>_up_average_cart_position</th>\n",
       "      <th>_prod_tot_cnts</th>\n",
       "      <th>_prod_reorder_tot_cnts</th>\n",
       "      <th>_prod_buy_first_time_total_cnt</th>\n",
       "      <th>_prod_buy_second_time_total_cnt</th>\n",
       "      <th>_prod_reorder_prob</th>\n",
       "      <th>_prod_reorder_ratio</th>\n",
       "      <th>...</th>\n",
       "      <th>_user_mean_days_since_prior_order</th>\n",
       "      <th>_user_reorder_ratio</th>\n",
       "      <th>_user_total_products</th>\n",
       "      <th>_user_distinct_products</th>\n",
       "      <th>_user_average_basket</th>\n",
       "      <th>time_since_last_order</th>\n",
       "      <th>_up_order_rate</th>\n",
       "      <th>_up_order_since_last_order</th>\n",
       "      <th>_up_order_rate_since_first_order</th>\n",
       "      <th>reordered</th>\n",
       "    </tr>\n",
       "  </thead>\n",
       "  <tbody>\n",
       "    <tr>\n",
       "      <th>0</th>\n",
       "      <td>0.091837</td>\n",
       "      <td>0.000000</td>\n",
       "      <td>0.091837</td>\n",
       "      <td>0.002778</td>\n",
       "      <td>0.075736</td>\n",
       "      <td>0.069720</td>\n",
       "      <td>0.108160</td>\n",
       "      <td>0.084472</td>\n",
       "      <td>0.582500</td>\n",
       "      <td>0.825010</td>\n",
       "      <td>...</td>\n",
       "      <td>0.651852</td>\n",
       "      <td>0.759259</td>\n",
       "      <td>0.015406</td>\n",
       "      <td>0.023448</td>\n",
       "      <td>0.070758</td>\n",
       "      <td>0.466667</td>\n",
       "      <td>1.000000</td>\n",
       "      <td>0.00000</td>\n",
       "      <td>1.000000</td>\n",
       "      <td>1.0</td>\n",
       "    </tr>\n",
       "    <tr>\n",
       "      <th>1</th>\n",
       "      <td>0.081633</td>\n",
       "      <td>0.010204</td>\n",
       "      <td>0.091837</td>\n",
       "      <td>0.016204</td>\n",
       "      <td>0.004116</td>\n",
       "      <td>0.003485</td>\n",
       "      <td>0.007518</td>\n",
       "      <td>0.005583</td>\n",
       "      <td>0.552962</td>\n",
       "      <td>0.758383</td>\n",
       "      <td>...</td>\n",
       "      <td>0.651852</td>\n",
       "      <td>0.759259</td>\n",
       "      <td>0.015406</td>\n",
       "      <td>0.023448</td>\n",
       "      <td>0.070758</td>\n",
       "      <td>0.466667</td>\n",
       "      <td>0.898980</td>\n",
       "      <td>0.00000</td>\n",
       "      <td>1.000000</td>\n",
       "      <td>1.0</td>\n",
       "    </tr>\n",
       "    <tr>\n",
       "      <th>2</th>\n",
       "      <td>0.000000</td>\n",
       "      <td>0.040816</td>\n",
       "      <td>0.040816</td>\n",
       "      <td>0.027778</td>\n",
       "      <td>0.011692</td>\n",
       "      <td>0.009039</td>\n",
       "      <td>0.025989</td>\n",
       "      <td>0.018181</td>\n",
       "      <td>0.521581</td>\n",
       "      <td>0.692759</td>\n",
       "      <td>...</td>\n",
       "      <td>0.651852</td>\n",
       "      <td>0.759259</td>\n",
       "      <td>0.015406</td>\n",
       "      <td>0.023448</td>\n",
       "      <td>0.070758</td>\n",
       "      <td>0.466667</td>\n",
       "      <td>0.090816</td>\n",
       "      <td>0.05102</td>\n",
       "      <td>0.158163</td>\n",
       "      <td>0.0</td>\n",
       "    </tr>\n",
       "    <tr>\n",
       "      <th>3</th>\n",
       "      <td>0.091837</td>\n",
       "      <td>0.000000</td>\n",
       "      <td>0.091837</td>\n",
       "      <td>0.015972</td>\n",
       "      <td>0.013702</td>\n",
       "      <td>0.012034</td>\n",
       "      <td>0.022689</td>\n",
       "      <td>0.016115</td>\n",
       "      <td>0.529482</td>\n",
       "      <td>0.787031</td>\n",
       "      <td>...</td>\n",
       "      <td>0.651852</td>\n",
       "      <td>0.759259</td>\n",
       "      <td>0.015406</td>\n",
       "      <td>0.023448</td>\n",
       "      <td>0.070758</td>\n",
       "      <td>0.466667</td>\n",
       "      <td>1.000000</td>\n",
       "      <td>0.00000</td>\n",
       "      <td>1.000000</td>\n",
       "      <td>0.0</td>\n",
       "    </tr>\n",
       "  </tbody>\n",
       "</table>\n",
       "<p>4 rows × 22 columns</p>\n",
       "</div>"
      ],
      "text/plain": [
       "   _up_order_count  _up_first_order_number  _up_last_order_number  \\\n",
       "0         0.091837                0.000000               0.091837   \n",
       "1         0.081633                0.010204               0.091837   \n",
       "2         0.000000                0.040816               0.040816   \n",
       "3         0.091837                0.000000               0.091837   \n",
       "\n",
       "   _up_average_cart_position  _prod_tot_cnts  _prod_reorder_tot_cnts  \\\n",
       "0                   0.002778        0.075736                0.069720   \n",
       "1                   0.016204        0.004116                0.003485   \n",
       "2                   0.027778        0.011692                0.009039   \n",
       "3                   0.015972        0.013702                0.012034   \n",
       "\n",
       "   _prod_buy_first_time_total_cnt  _prod_buy_second_time_total_cnt  \\\n",
       "0                        0.108160                         0.084472   \n",
       "1                        0.007518                         0.005583   \n",
       "2                        0.025989                         0.018181   \n",
       "3                        0.022689                         0.016115   \n",
       "\n",
       "   _prod_reorder_prob  _prod_reorder_ratio    ...      \\\n",
       "0            0.582500             0.825010    ...       \n",
       "1            0.552962             0.758383    ...       \n",
       "2            0.521581             0.692759    ...       \n",
       "3            0.529482             0.787031    ...       \n",
       "\n",
       "   _user_mean_days_since_prior_order  _user_reorder_ratio  \\\n",
       "0                           0.651852             0.759259   \n",
       "1                           0.651852             0.759259   \n",
       "2                           0.651852             0.759259   \n",
       "3                           0.651852             0.759259   \n",
       "\n",
       "   _user_total_products  _user_distinct_products  _user_average_basket  \\\n",
       "0              0.015406                 0.023448              0.070758   \n",
       "1              0.015406                 0.023448              0.070758   \n",
       "2              0.015406                 0.023448              0.070758   \n",
       "3              0.015406                 0.023448              0.070758   \n",
       "\n",
       "   time_since_last_order  _up_order_rate  _up_order_since_last_order  \\\n",
       "0               0.466667        1.000000                     0.00000   \n",
       "1               0.466667        0.898980                     0.00000   \n",
       "2               0.466667        0.090816                     0.05102   \n",
       "3               0.466667        1.000000                     0.00000   \n",
       "\n",
       "   _up_order_rate_since_first_order  reordered  \n",
       "0                          1.000000        1.0  \n",
       "1                          1.000000        1.0  \n",
       "2                          0.158163        0.0  \n",
       "3                          1.000000        0.0  \n",
       "\n",
       "[4 rows x 22 columns]"
      ]
     },
     "metadata": {},
     "output_type": "display_data"
    }
   ],
   "source": [
    "display(df_train.head(4))"
   ]
  },
  {
   "cell_type": "code",
   "execution_count": 19,
   "metadata": {},
   "outputs": [],
   "source": [
    "## We can only use X_test for on-line competition submission. \n",
    "## X_test = df_data.loc[df_data['eval_set'] == \"test\"]\n",
    "\n",
    "X_df_train_raw, X_val_raw, y_df_train_raw, y_val_raw =  train_test_split(df_train.drop('reordered', axis=1), \n",
    "                                                        df_train.reordered,\n",
    "                                                        test_size=0.1, random_state=42)"
   ]
  },
  {
   "cell_type": "code",
   "execution_count": 20,
   "metadata": {},
   "outputs": [
    {
     "name": "stdout",
     "output_type": "stream",
     "text": [
      "(7627194, 21)\n",
      "(847467, 21)\n",
      "(7627194,)\n",
      "(847467,)\n"
     ]
    }
   ],
   "source": [
    "print(X_df_train_raw.shape)\n",
    "print(X_val_raw.shape)\n",
    "print(y_df_train_raw.shape)\n",
    "print(y_val_raw.shape)"
   ]
  },
  {
   "cell_type": "markdown",
   "metadata": {},
   "source": [
    "### Subset Testing Stage ### "
   ]
  },
  {
   "cell_type": "code",
   "execution_count": 21,
   "metadata": {},
   "outputs": [
    {
     "name": "stdout",
     "output_type": "stream",
     "text": [
      "---------- Original size----------\n",
      "(7627194, 21)\n",
      "---------- Subset size----------\n",
      "(762719, 21)\n"
     ]
    }
   ],
   "source": [
    "print(\"-\"*10 + \" Original size\" + \"-\"*10 )\n",
    "print(X_df_train_raw.shape)\n",
    "X_df_train = X_df_train_raw.sample(frac=0.1, random_state=311)\n",
    "y_df_train = y_df_train_raw.sample(frac=0.1, random_state=311)\n",
    "print(\"-\"*10 + \" Subset size\" + \"-\"*10 )\n",
    "print(X_df_train.shape)"
   ]
  },
  {
   "cell_type": "code",
   "execution_count": 22,
   "metadata": {},
   "outputs": [],
   "source": [
    "X_val = X_val_raw.sample(frac=0.1, random_state=311)\n",
    "y_val = y_val_raw.sample(frac=0.1, random_state=311)"
   ]
  },
  {
   "cell_type": "markdown",
   "metadata": {},
   "source": [
    "### Model Evaluation: Quantifying the Quality of Predictions ### "
   ]
  },
  {
   "cell_type": "markdown",
   "metadata": {},
   "source": [
    "### Input Desired Threshold of the Probability ###"
   ]
  },
  {
   "cell_type": "code",
   "execution_count": 23,
   "metadata": {
    "collapsed": true
   },
   "outputs": [],
   "source": [
    "## define the threshold. \n",
    "## If probability is higher than this, we predict the item will be put in the cart\n",
    "defined_threshold = 0.3"
   ]
  },
  {
   "cell_type": "code",
   "execution_count": 24,
   "metadata": {},
   "outputs": [
    {
     "name": "stderr",
     "output_type": "stream",
     "text": [
      "/Users/udothemath1984/anaconda/lib/python3.6/site-packages/sklearn/cross_validation.py:41: DeprecationWarning: This module was deprecated in version 0.18 in favor of the model_selection module into which all the refactored classes and functions are moved. Also note that the interface of the new CV iterators are different from that of this module. This module will be removed in 0.20.\n",
      "  \"This module will be removed in 0.20.\", DeprecationWarning)\n",
      "/Users/udothemath1984/anaconda/lib/python3.6/site-packages/sklearn/grid_search.py:42: DeprecationWarning: This module was deprecated in version 0.18 in favor of the model_selection module into which all the refactored classes and functions are moved. This module will be removed in 0.20.\n",
      "  DeprecationWarning)\n"
     ]
    }
   ],
   "source": [
    "from sklearn.tree import DecisionTreeRegressor\n",
    "from sklearn.metrics import make_scorer\n",
    "from sklearn.grid_search import GridSearchCV\n",
    "from sklearn.cross_validation import ShuffleSplit\n",
    "from sklearn.metrics import r2_score, f1_score\n",
    "\n",
    "## http://scikit-learn.org/stable/modules/model_evaluation.html\n",
    "\n",
    "def performance_metric(y_true, y_predict, threshold= defined_threshold):\n",
    "    \"\"\" Calculates and returns the performance score between \n",
    "        true and predicted values based on the metric chosen. \"\"\"\n",
    "    \n",
    "    ## Calculate the performance score between 'y_true' and 'y_predict'\n",
    "    ##score = r2_score(y_true, y_predict)\n",
    "    \n",
    "    #Converting probabilities into 1 or 0 \n",
    "    y_pred_threshold = y_predict.copy()\n",
    "    for i in range(0,len(y_predict)): \n",
    "        if y_predict[i]>=threshold:       # setting threshold (critical for our problem!)\n",
    "            y_pred_threshold[i]=1 \n",
    "        else: \n",
    "            y_pred_threshold[i]=0 \n",
    "    \n",
    "    \n",
    "    score = f1_score(y_true, y_pred_threshold)\n",
    "    ## Classification metrics can't handle a mix of binary and continuous targets\n",
    "    ## modification required\n",
    "    \n",
    "    ## Return the score\n",
    "    return score\n",
    "\n",
    "def fit_model_with_threshold(X, y):\n",
    "    \"\"\" Performs grid search over the 'max_depth' parameter for a \n",
    "        decision tree regressor trained on the input data [X, y]. \"\"\"\n",
    "    # 0.17\n",
    "    # http://lijiancheng0614.github.io/scikit-learn/modules/generated/sklearn.cross_validation.ShuffleSplit.html\n",
    "    # Create cross-validation sets from the training data\n",
    "    cv_sets = ShuffleSplit(X.shape[0], n_iter = 10, test_size = 0.20, random_state = 123)\n",
    "\n",
    "    ## Create a decision tree regressor object\n",
    "    regressor = DecisionTreeRegressor()\n",
    "\n",
    "    ## Create a dictionary for the parameter 'max_depth' with a range from 3 to 6 \n",
    "    params = {'max_depth':[x for x in range(3,7)]}\n",
    "\n",
    "    ## Transform 'performance_metric' into a scoring function using 'make_scorer' \n",
    "    #scoring_fnc = make_scorer(performance_metric)\n",
    "    scoring_fnc = make_scorer(performance_metric)\n",
    "\n",
    "    ## Create the grid search object\n",
    "    grid = GridSearchCV(regressor, params, scoring=scoring_fnc, cv=cv_sets)\n",
    "\n",
    "    ## Fit the grid search object to the data to compute the optimal model\n",
    "    grid = grid.fit(X, y)\n",
    "\n",
    "    ## Return the optimal model after fitting the data\n",
    "    print(\"This is your best fitting score: {}\".format(grid.grid_scores_))\n",
    "    return grid.best_estimator_\n",
    "    #return grid.best_estimator_, grid.grid_scores_"
   ]
  },
  {
   "cell_type": "markdown",
   "metadata": {},
   "source": [
    "### Check Whether There is Missing Data(NaN) ###"
   ]
  },
  {
   "cell_type": "code",
   "execution_count": 25,
   "metadata": {},
   "outputs": [
    {
     "name": "stdout",
     "output_type": "stream",
     "text": [
      "False\n",
      "0\n"
     ]
    }
   ],
   "source": [
    "## print(X_df_train.isnull().values.any())\n",
    "print(y_df_train.isnull().values.any())\n",
    "nan_rows = []\n",
    "if y_df_train.isnull().values.any():\n",
    "    nan_rows = X_df_train[X_df_train.isnull().any(1)]\n",
    "print(len(nan_rows))\n",
    "#display(nan_rows[1100:1110])"
   ]
  },
  {
   "cell_type": "markdown",
   "metadata": {},
   "source": [
    "### Fit the Model ###"
   ]
  },
  {
   "cell_type": "code",
   "execution_count": 26,
   "metadata": {},
   "outputs": [
    {
     "name": "stdout",
     "output_type": "stream",
     "text": [
      "fit the decision tree model begin ......\n",
      "This is your best fitting score: [mean: 0.37182, std: 0.00244, params: {'max_depth': 3}, mean: 0.39479, std: 0.00420, params: {'max_depth': 4}, mean: 0.38050, std: 0.00947, params: {'max_depth': 5}, mean: 0.40098, std: 0.00890, params: {'max_depth': 6}]\n",
      "fit the decision tree model end ......\n",
      "time lapsing 322.93188214302063 s \n",
      "\n",
      "Parameter 'max_depth' is 6 for the optimal model.\n"
     ]
    }
   ],
   "source": [
    "# X_df_train, X_val, y_df_train, y_val\n",
    "## Fit the training data to the model using grid search\n",
    "\n",
    "with setup_your_clock(\"fit the decision tree model\"):\n",
    "    reg = fit_model_with_threshold(X_df_train, y_df_train)\n",
    "\n",
    "# Produce the value for 'max_depth'\n",
    "print(\"Parameter 'max_depth' is {} for the optimal model.\".format(reg.get_params()['max_depth']))\n"
   ]
  },
  {
   "cell_type": "markdown",
   "metadata": {},
   "source": [
    "### Save/Load the Model ###"
   ]
  },
  {
   "cell_type": "code",
   "execution_count": 27,
   "metadata": {
    "collapsed": true
   },
   "outputs": [],
   "source": [
    "import pickle\n",
    "saving_model = True\n",
    "\n",
    "filename = 'm1_DecisionTree_model_normalization.p'\n",
    "\n",
    "if saving_model: \n",
    "    ## save the model to disk\n",
    "    pickle.dump(reg, open(filename, 'wb'))\n",
    "else:\n",
    "    ## load the model from disk\n",
    "    reg = pickle.load(open(filename, 'rb'))\n",
    "    "
   ]
  },
  {
   "cell_type": "markdown",
   "metadata": {},
   "source": [
    "### Prediction ###"
   ]
  },
  {
   "cell_type": "code",
   "execution_count": 28,
   "metadata": {
    "collapsed": true
   },
   "outputs": [],
   "source": [
    "## X_df_train, X_val, y_df_train, y_val\n",
    "## make sure the index of X_val and y_val are the same while sampling\n",
    "def size_of_your_val(desired_frac, desired_rand_state=311):\n",
    "    X_val_sub = X_val.sample(frac=desired_frac, random_state=desired_rand_state)\n",
    "    y_val_sub = y_val.sample(frac=desired_frac, random_state=desired_rand_state)\n",
    "    print(\"Number of entry in your test: {}.\".format(X_val_sub.shape[0]))\n",
    "    return X_val_sub, y_val_sub"
   ]
  },
  {
   "cell_type": "code",
   "execution_count": 29,
   "metadata": {},
   "outputs": [
    {
     "name": "stdout",
     "output_type": "stream",
     "text": [
      "Number of entry in your test: 84747.\n"
     ]
    }
   ],
   "source": [
    "validation_size = 1.0\n",
    "the_X_val, the_y_val =  size_of_your_val(validation_size) \n",
    "## display(the_X_val.head(3))\n",
    "## display(the_y_val.head(3))"
   ]
  },
  {
   "cell_type": "code",
   "execution_count": 30,
   "metadata": {},
   "outputs": [],
   "source": [
    "the_y_pred = reg.predict(the_X_val)\n",
    "#Converting probabilities into 1 or 0 based on the threshold\n",
    "y_pred_threshold = the_y_pred.copy()\n",
    "for i in range(0,len(the_y_pred)): \n",
    "    if the_y_pred[i]>=defined_threshold:       # setting threshold (critical for our problem!)\n",
    "        y_pred_threshold[i]=1 \n",
    "    else: \n",
    "        y_pred_threshold[i]=0 "
   ]
  },
  {
   "cell_type": "markdown",
   "metadata": {},
   "source": [
    "### Output the Scores of your Prediction"
   ]
  },
  {
   "cell_type": "code",
   "execution_count": 31,
   "metadata": {},
   "outputs": [
    {
     "name": "stdout",
     "output_type": "stream",
     "text": [
      "0.401123301985\n"
     ]
    }
   ],
   "source": [
    "from sklearn.metrics import f1_score\n",
    "your_pred_score = f1_score(the_y_val, y_pred_threshold)\n",
    "print(your_pred_score)"
   ]
  },
  {
   "cell_type": "markdown",
   "metadata": {},
   "source": [
    "Here I report the f1\\_score with different thresholds.\n",
    "\n",
    "| threshold | f1_score | \n",
    "|-----|------|\n",
    "|0.1|0.364437913299|\n",
    "|0.2|0.421511782542|\n",
    "|0.3|0.401123301985|\n",
    "\n",
    "As what we expect, the threshold plays an important role to determine the goodness of the prediction. It is intuitive since the probability of buying some items is directly related the final shopping cart. We will eliberate more in the report and have to tackle the same problem using other algorithms.\n"
   ]
  },
  {
   "cell_type": "markdown",
   "metadata": {},
   "source": [
    "### Dominant Features ###"
   ]
  },
  {
   "cell_type": "code",
   "execution_count": 35,
   "metadata": {},
   "outputs": [],
   "source": [
    "from sklearn.feature_selection import SelectKBest, f_regression\n",
    "most_important_features = 21\n",
    "featureSelector = SelectKBest(score_func=f_regression,k=most_important_features)\n",
    "featureSelector.fit(X_df_train,y_df_train)\n",
    "print(\"The index of feature importance. Note: Index starts from zero.\")\n",
    "print(\"You have selected {} most important features out of {}.\".format(most_important_features, X_df_train.shape[1] ))\n",
    "imp_feature_selected_ind = [zero_based_index for zero_based_index in list(featureSelector.get_support(indices=True))]\n",
    "#print(imp_feature_selected_ind)\n",
    "imp_feature_selected_type = X_df_train.columns[imp_feature_selected_ind]\n",
    "#print(imp_feature_selected_type)\n",
    "imp_feature_scores = featureSelector.scores_[imp_feature_selected_ind]\n",
    "#print(imp_feature_scores)"
   ]
  },
  {
   "cell_type": "code",
   "execution_count": 49,
   "metadata": {},
   "outputs": [
    {
     "data": {
      "image/png": "[encoded data removed]",
      "text/plain": [
       "<matplotlib.figure.Figure at 0x1937f9a90>"
      ]
     },
     "metadata": {},
     "output_type": "display_data"
    }
   ],
   "source": [
    "\n",
    "import matplotlib as mpl\n",
    "mpl.rcParams['axes.labelsize'] = 20\n",
    "\n",
    "#plt.rc('axes.labelsize', fontsize=18)    # legend fontsize\n",
    "\n",
    "\n",
    "plt.bar(range(len(imp_feature_selected_ind)), imp_feature_scores)\n",
    "plt.xticks(range(len(imp_feature_selected_ind)), imp_feature_selected_ind, rotation='vertical')\n",
    "\n",
    "plt.xlabel('Features')\n",
    "plt.ylabel('Accuracy Scores')\n",
    "\n",
    "plt.tight_layout()\n",
    "plt.savefig('./figures/fig_dominant_features.png')\n",
    "\n",
    "plt.show()\n",
    "\n",
    "select_n_most_important = 10\n",
    "\n",
    "type_scores_pairs = pd.DataFrame({\n",
    "    'Type' : imp_feature_selected_type,\n",
    "    'Scores' : imp_feature_scores}, columns=['Type','Scores'])\\\n",
    "    .sort_values(by='Scores', ascending=False)[:select_n_most_important]\n",
    "\n",
    "type_scores_pairs['Rank'] = list(range(1, select_n_most_important+1 ))    \n",
    "type_scores_pairs = type_scores_pairs.reindex_axis(['Rank', 'Type', 'Scores'], axis=1)"
   ]
  },
  {
   "cell_type": "code",
   "execution_count": 52,
   "metadata": {},
   "outputs": [
    {
     "data": {
      "text/html": [
       "<div>\n",
       "<style>\n",
       "    .dataframe thead tr:only-child th {\n",
       "        text-align: right;\n",
       "    }\n",
       "\n",
       "    .dataframe thead th {\n",
       "        text-align: left;\n",
       "    }\n",
       "\n",
       "    .dataframe tbody tr th {\n",
       "        vertical-align: top;\n",
       "    }\n",
       "</style>\n",
       "<table border=\"1\" class=\"dataframe\">\n",
       "  <thead>\n",
       "    <tr style=\"text-align: right;\">\n",
       "      <th></th>\n",
       "      <th>Rank</th>\n",
       "      <th>Type</th>\n",
       "    </tr>\n",
       "  </thead>\n",
       "  <tbody>\n",
       "    <tr>\n",
       "      <th>18</th>\n",
       "      <td>1</td>\n",
       "      <td>_up_order_rate</td>\n",
       "    </tr>\n",
       "    <tr>\n",
       "      <th>20</th>\n",
       "      <td>2</td>\n",
       "      <td>_up_order_rate_since_first_order</td>\n",
       "    </tr>\n",
       "    <tr>\n",
       "      <th>0</th>\n",
       "      <td>3</td>\n",
       "      <td>_up_order_count</td>\n",
       "    </tr>\n",
       "    <tr>\n",
       "      <th>19</th>\n",
       "      <td>4</td>\n",
       "      <td>_up_order_since_last_order</td>\n",
       "    </tr>\n",
       "    <tr>\n",
       "      <th>8</th>\n",
       "      <td>5</td>\n",
       "      <td>_prod_reorder_prob</td>\n",
       "    </tr>\n",
       "    <tr>\n",
       "      <th>9</th>\n",
       "      <td>6</td>\n",
       "      <td>_prod_reorder_ratio</td>\n",
       "    </tr>\n",
       "    <tr>\n",
       "      <th>4</th>\n",
       "      <td>7</td>\n",
       "      <td>_prod_tot_cnts</td>\n",
       "    </tr>\n",
       "    <tr>\n",
       "      <th>5</th>\n",
       "      <td>8</td>\n",
       "      <td>_prod_reorder_tot_cnts</td>\n",
       "    </tr>\n",
       "    <tr>\n",
       "      <th>7</th>\n",
       "      <td>9</td>\n",
       "      <td>_prod_buy_second_time_total_cnt</td>\n",
       "    </tr>\n",
       "    <tr>\n",
       "      <th>6</th>\n",
       "      <td>10</td>\n",
       "      <td>_prod_buy_first_time_total_cnt</td>\n",
       "    </tr>\n",
       "  </tbody>\n",
       "</table>\n",
       "</div>"
      ],
      "text/plain": [
       "    Rank                              Type\n",
       "18     1                    _up_order_rate\n",
       "20     2  _up_order_rate_since_first_order\n",
       "0      3                   _up_order_count\n",
       "19     4        _up_order_since_last_order\n",
       "8      5                _prod_reorder_prob\n",
       "9      6               _prod_reorder_ratio\n",
       "4      7                    _prod_tot_cnts\n",
       "5      8            _prod_reorder_tot_cnts\n",
       "7      9   _prod_buy_second_time_total_cnt\n",
       "6     10    _prod_buy_first_time_total_cnt"
      ]
     },
     "metadata": {},
     "output_type": "display_data"
    }
   ],
   "source": [
    "display(type_scores_pairs[['Rank', 'Type']])\n",
    "#print(type_scores_pairs[['Rank', 'Type']].to_latex(index=False))\n",
    "#print(type_scores_pairs[['Rank', 'Type']].to_latex())"
   ]
  },
  {
   "cell_type": "markdown",
   "metadata": {},
   "source": [
    "### Note: Decision Tree (Scaling) ###"
   ]
  },
  {
   "cell_type": "code",
   "execution_count": 17,
   "metadata": {},
   "outputs": [
    {
     "data": {
      "image/png": "[encoded data removed]",
      "text/plain": [
       "<matplotlib.figure.Figure at 0x10e8b6710>"
      ]
     },
     "metadata": {},
     "output_type": "display_data"
    }
   ],
   "source": [
    "decision_no_scale = [(0.1, 0.14681), (0.2, 0.1225590 ), (0.3, 0.080233)]\n",
    "decision_with_scale = [(0.1,0.36443), (0.2, 0.421511 ), (0.3, 0.401123)]\n",
    "\n",
    "import matplotlib.pyplot as plt\n",
    "\n",
    "import matplotlib as mpl\n",
    "\n",
    "mpl.rcParams['axes.labelsize'] = 16\n",
    "mpl.rcParams['xtick.labelsize'] = 16\n",
    "mpl.rcParams['ytick.labelsize'] = 16\n",
    "\n",
    "p1x, p1y = zip(*decision_no_scale)\n",
    "p2x, p2y = zip(*decision_with_scale)\n",
    "\n",
    "plt.xlabel(\"Probability Threshold\")\n",
    "plt.ylabel(\"Accuracy (F1 Score)\")\n",
    "plt.ylim(0, 0.55)\n",
    "plt.scatter(p1x, p1y, label='No Scaling')\n",
    "plt.scatter(p2x, p2y, label='With Scaling')\n",
    "plt.legend()\n",
    "plt.tight_layout()\n",
    "plt.savefig('./figures/fig_norm_compare.png')\n",
    "\n",
    "\n",
    "plt.show()"
   ]
  }
 ],
 "metadata": {
  "kernelspec": {
   "display_name": "Python 3",
   "language": "python",
   "name": "python3"
  },
  "language_info": {
   "codemirror_mode": {
    "name": "ipython",
    "version": 3
   },
   "file_extension": ".py",
   "mimetype": "text/x-python",
   "name": "python",
   "nbconvert_exporter": "python",
   "pygments_lexer": "ipython3",
   "version": "3.6.0"
  }
 },
 "nbformat": 4,
 "nbformat_minor": 2
}
